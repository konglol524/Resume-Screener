{
 "cells": [
  {
   "cell_type": "code",
   "execution_count": 33,
   "id": "bdae0284",
   "metadata": {},
   "outputs": [],
   "source": [
    "import numpy as np\n",
    "from typing import List, Dict, Tuple\n",
    "from sklearn.metrics.pairwise import cosine_similarity\n",
    "from nltk.corpus import stopwords\n",
    "from transformers import AutoTokenizer, TFAutoModel\n",
    "import tensorflow as tf\n",
    "\n",
    "class Document:\n",
    "    def __init__(self, name, embedding):\n",
    "        self.name = name  # First attribute\n",
    "        self.embedding = embedding   # Second attribute\n",
    "\n",
    "class BiasedDocumentMatcher:\n",
    "    def __init__(self, config: Dict = None):\n",
    "        # Default configuration\n",
    "        self.config = {\n",
    "            \"threshold\": 0.52,\n",
    "        }        # Update with user-provided configuration\n",
    "        if config:\n",
    "            self.config.update(config)\n",
    "        self.job = None\n",
    "        self.resumes = list()\n",
    "        self.tokenizer = AutoTokenizer.from_pretrained(\"sentence-transformers/all-MiniLM-L6-v2\")\n",
    "        self.model = TFAutoModel.from_pretrained(\"sentence-transformers/all-MiniLM-L6-v2\")\n",
    "\n",
    "    def get_sbert_embedding(self, text: str) -> np.ndarray:\n",
    "        # Tokenize and encode text using BERT's tokenizer with TensorFlow tensors.\n",
    "        inputs = self.tokenizer(text, return_tensors=\"tf\", truncation=True, padding=True)\n",
    "        outputs = self.model(inputs)\n",
    "        # Mean pool over token embeddings (last_hidden_state shape: [batch_size, seq_len, hidden_size])\n",
    "        embedding = tf.reduce_mean(outputs.last_hidden_state, axis=1).numpy()[0]\n",
    "        return embedding\n",
    "    \n",
    "    def set_job(self, job_name, job_text:str):\n",
    "        self.job = Document(job_name, self.get_sbert_embedding(job_text))\n",
    "\n",
    "    def remove_job(self):\n",
    "        self.job = None\n",
    "    \n",
    "    def add_resume(self, resume_name, resume_text:str):\n",
    "        self.resumes.append(Document(resume_name, (self.get_sbert_embedding(resume_text))))\n",
    "    \n",
    "    def remove_resume(self, idx:int):\n",
    "        self.resumes.pop(idx)\n",
    "    \n",
    "    def remove_all_resumes(self):\n",
    "        self.resumes = []   \n",
    "\n",
    "    def calculate_similarity(self, emb1, emb2) -> float:\n",
    "        similarity = cosine_similarity([emb1], [emb2])[0][0]\n",
    "        return  similarity \n",
    "    \n",
    "    def match_resumes(self):\n",
    "        scores = []\n",
    "        for resume in self.resumes:\n",
    "            score = self.calculate_similarity(resume.embedding, self.job.embedding)\n",
    "            if score > self.config[\"threshold\"]:\n",
    "                scores.append((score, resume.name))\n",
    "\n",
    "        return scores"
   ]
  },
  {
   "cell_type": "code",
   "execution_count": 34,
   "id": "02b9468b",
   "metadata": {},
   "outputs": [
    {
     "name": "stderr",
     "output_type": "stream",
     "text": [
      "Some weights of the PyTorch model were not used when initializing the TF 2.0 model TFBertModel: ['embeddings.position_ids']\n",
      "- This IS expected if you are initializing TFBertModel from a PyTorch model trained on another task or with another architecture (e.g. initializing a TFBertForSequenceClassification model from a BertForPreTraining model).\n",
      "- This IS NOT expected if you are initializing TFBertModel from a PyTorch model that you expect to be exactly identical (e.g. initializing a TFBertForSequenceClassification model from a BertForSequenceClassification model).\n",
      "All the weights of TFBertModel were initialized from the PyTorch model.\n",
      "If your task is similar to the task the model of the checkpoint was trained on, you can already use TFBertModel for predictions without further training.\n"
     ]
    },
    {
     "name": "stdout",
     "output_type": "stream",
     "text": [
      "job description\n",
      "None\n"
     ]
    }
   ],
   "source": [
    "matcher = BiasedDocumentMatcher()\n",
    "matcher.set_job(\"job description\", \"Very pro front end dev\")\n",
    "print(matcher.job.name)\n",
    "matcher.remove_job()\n",
    "print(matcher.job)"
   ]
  },
  {
   "cell_type": "code",
   "execution_count": 35,
   "id": "2d2bfeb5",
   "metadata": {},
   "outputs": [
    {
     "name": "stdout",
     "output_type": "stream",
     "text": [
      "[(0.75600076, 'resume2'), (0.83254623, 'resume3')]\n"
     ]
    }
   ],
   "source": [
    "matcher.remove_all_resumes()\n",
    "matcher.set_job(\"job description\", \"Very pro front end dev\")\n",
    "matcher.add_resume(\"resume1\", \"Front end dev\")\n",
    "matcher.add_resume(\"resume2\", \"Back end dev\")\n",
    "matcher.add_resume(\"resume3\", \"Experienced front end dev\")\n",
    "matcher.remove_resume(0)\n",
    "print(matcher.match_resumes())"
   ]
  }
 ],
 "metadata": {
  "kernelspec": {
   "display_name": "testenv",
   "language": "python",
   "name": "python3"
  },
  "language_info": {
   "codemirror_mode": {
    "name": "ipython",
    "version": 3
   },
   "file_extension": ".py",
   "mimetype": "text/x-python",
   "name": "python",
   "nbconvert_exporter": "python",
   "pygments_lexer": "ipython3",
   "version": "3.9.19"
  }
 },
 "nbformat": 4,
 "nbformat_minor": 5
}
