{
 "cells": [
  {
   "cell_type": "code",
   "execution_count": 1,
   "metadata": {},
   "outputs": [
    {
     "name": "stderr",
     "output_type": "stream",
     "text": [
      "2025-04-30 18:29:41,090 - pdfminer.pdfpage - WARNING - CropBox missing from /Page, defaulting to MediaBox\n"
     ]
    }
   ],
   "source": [
    "import sys\n",
    "import os\n",
    "from data_extraction import extract_text_from_pdf, read_text_file\n",
    "\n",
    "resume_tochi = extract_text_from_pdf('./sample_pdf/tochi.pdf')\n",
    "#print(extracted_text)\n",
    "de_job_text = read_text_file('./job_texts/DE.txt')\n",
    "#print(text)"
   ]
  },
  {
   "cell_type": "code",
   "execution_count": null,
   "metadata": {},
   "outputs": [
    {
     "name": "stderr",
     "output_type": "stream",
     "text": [
      "Some weights of the PyTorch model were not used when initializing the TF 2.0 model TFBertModel: ['embeddings.position_ids']\n",
      "- This IS expected if you are initializing TFBertModel from a PyTorch model trained on another task or with another architecture (e.g. initializing a TFBertForSequenceClassification model from a BertForPreTraining model).\n",
      "- This IS NOT expected if you are initializing TFBertModel from a PyTorch model that you expect to be exactly identical (e.g. initializing a TFBertForSequenceClassification model from a BertForSequenceClassification model).\n",
      "All the weights of TFBertModel were initialized from the PyTorch model.\n",
      "If your task is similar to the task the model of the checkpoint was trained on, you can already use TFBertModel for predictions without further training.\n"
     ]
    }
   ],
   "source": [
    "from resume_screener.proto_type.proto_matcher import BiasedDocumentMatcher\n",
    "Amatcher = BiasedDocumentMatcher()\n",
    "Amatcher.set_job('DE.txt', de_job_text)"
   ]
  },
  {
   "cell_type": "code",
   "execution_count": 3,
   "metadata": {},
   "outputs": [
    {
     "name": "stdout",
     "output_type": "stream",
     "text": [
      "[-1.54283978e-02  8.64225812e-03  1.03870489e-01  7.26796463e-02\n",
      " -3.34128626e-02 -1.67093560e-01  4.45720777e-02 -4.57069501e-02\n",
      " -8.18422288e-02  1.32272512e-01 -7.93207884e-02 -1.52130842e-01\n",
      "  1.97921261e-01 -1.29697517e-01  1.10811824e-02  5.59894787e-03\n",
      " -2.62322351e-02 -1.08084440e-01 -1.31547228e-01 -1.81288451e-01\n",
      " -8.95765144e-04  8.85345042e-02 -2.46095024e-02 -1.10559754e-01\n",
      "  2.82398053e-02 -3.24608609e-02  5.51488101e-02 -3.20638083e-02\n",
      " -4.78233695e-02 -6.52353317e-02 -1.09573051e-01 -2.90978719e-02\n",
      "  4.77478206e-02  2.04133093e-01  1.38843460e-02  6.91413209e-02\n",
      "  7.92147517e-02 -5.45940176e-02 -1.21662356e-02 -3.62229794e-02\n",
      " -4.35759351e-02 -1.54697135e-01 -9.91829932e-02 -1.68014050e-01\n",
      " -4.89912778e-02  1.30782137e-02 -2.64524836e-02 -1.29784271e-01\n",
      " -1.14292484e-02  9.84158367e-02 -6.46599978e-02 -2.75352150e-02\n",
      "  9.63473767e-02 -1.96383372e-02  2.35217828e-02  4.23673019e-02\n",
      "  8.42016041e-02  3.92645970e-02 -4.32401197e-03 -1.78441424e-02\n",
      " -4.08757068e-02 -1.60450771e-01 -7.25739822e-02  1.18956916e-01\n",
      " -1.19537950e-01 -1.95870101e-02 -7.21958652e-02  3.54244895e-02\n",
      " -3.58310044e-02 -4.60201725e-02 -6.75473958e-02 -1.47027701e-01\n",
      " -1.30539224e-01  1.33385777e-01  2.04335675e-02 -8.31559375e-02\n",
      "  5.41688576e-02  2.03232095e-03  1.22223921e-01  1.13964900e-01\n",
      " -6.61835819e-02  1.81617767e-01 -1.14222407e-01  1.61978647e-01\n",
      " -8.01919624e-02 -6.93277568e-02  9.68185887e-02  7.85683170e-02\n",
      " -4.27373499e-02  2.60801949e-02  1.47249892e-01 -4.11661118e-02\n",
      "  9.41594243e-02  8.28832388e-02  1.40531719e-01 -2.45665461e-02\n",
      " -4.59635593e-02 -1.11341208e-01 -4.70576342e-04 -1.12501457e-01\n",
      "  6.60202131e-05  1.07928798e-01 -2.33244468e-02 -2.93437392e-03\n",
      " -2.11700425e-01  1.99745339e-03 -9.99644101e-02  1.78740263e-01\n",
      " -1.07918024e-01 -3.49406824e-02  1.76691189e-02 -8.86780769e-03\n",
      " -1.06513768e-01 -1.28904535e-02  1.61333784e-01  2.83652432e-02\n",
      " -2.66064167e-01 -8.47302657e-03 -3.46032158e-02 -2.19134521e-02\n",
      "  6.64583035e-03  6.68247640e-02  8.08465108e-03 -6.85293674e-02\n",
      " -1.55404285e-02 -2.50159167e-02 -1.24789551e-01  1.19062671e-32\n",
      " -5.89180999e-02  9.35518667e-02 -6.86251894e-02 -2.31450591e-02\n",
      "  3.84210013e-02  4.79703443e-03  1.06561720e-01  1.31852835e-01\n",
      " -1.39348730e-01  8.77515078e-02 -3.11523047e-03  1.75751537e-01\n",
      " -7.59158581e-02  4.60354425e-02  3.49403769e-02  9.44579914e-02\n",
      "  8.83144736e-02  1.17621936e-01 -3.07718422e-02  1.66810855e-01\n",
      "  1.02286749e-01 -1.43233225e-01  4.45297733e-02  3.85636091e-02\n",
      "  9.45048928e-02 -8.93817376e-03  6.80794865e-02 -7.94077516e-02\n",
      "  8.47693160e-02 -9.09943692e-03 -1.24421366e-01 -1.53604522e-01\n",
      "  3.06314584e-02  6.04248308e-02 -2.42015421e-02  2.39893235e-02\n",
      " -4.44783904e-02 -1.94137059e-02  1.33699505e-02  1.72445104e-01\n",
      " -7.88626785e-04  1.06784329e-01  5.47973178e-02 -2.73815449e-02\n",
      "  5.53706195e-03  3.11870594e-02  1.01842389e-01 -2.54331008e-02\n",
      "  1.54733658e-01  4.41549048e-02 -2.71773431e-02 -9.41539481e-02\n",
      "  2.55216897e-01  2.81806886e-02  1.51790231e-01  1.66959703e-01\n",
      "  7.09776953e-02 -1.07068866e-01 -7.25694895e-02  1.32948056e-01\n",
      " -1.99046567e-01 -5.99049702e-02 -4.12829220e-02 -1.60607267e-02\n",
      "  3.27938497e-02 -5.84765263e-02  4.29069772e-02  5.08450493e-02\n",
      "  1.21677533e-01 -2.41093524e-03 -4.65051718e-02 -2.19643656e-02\n",
      "  2.13814601e-01  9.60386172e-02  2.17160191e-02 -7.06352219e-02\n",
      " -1.54121280e-01  2.33511198e-02  6.05682842e-02  1.51460662e-01\n",
      " -7.84614161e-02  7.77672827e-02 -4.12496850e-02 -1.00625433e-01\n",
      " -7.54146725e-02 -5.52276745e-02 -1.04968930e-02  1.76235735e-02\n",
      " -2.24481151e-03  3.61790843e-02  2.29211291e-03 -1.10471018e-01\n",
      " -3.79661173e-02 -3.89989465e-02 -1.55862585e-01 -1.26269649e-32\n",
      " -2.64357813e-02  2.74839289e-02 -1.19735569e-01  1.57166943e-01\n",
      "  1.73986256e-01  3.50378118e-02  1.21598676e-01  3.11279707e-02\n",
      "  1.14178047e-01 -1.29894121e-02  1.46631906e-02 -1.71969756e-02\n",
      " -2.56643817e-03 -5.23656653e-03 -5.21595888e-02 -3.53499912e-02\n",
      " -1.00362360e-01 -1.52661204e-01 -1.54199064e-01  4.28074524e-02\n",
      " -1.29048273e-01  8.23869742e-03 -8.48965868e-02  3.47659290e-02\n",
      "  1.55166939e-01 -1.51650468e-02 -1.05478644e-01 -5.94875850e-02\n",
      "  7.73384348e-02  7.40437768e-03  2.52358802e-02  5.37813045e-02\n",
      " -1.98894227e-03  2.86599863e-02 -8.61237496e-02 -1.25067070e-01\n",
      "  1.51059598e-01 -5.48094772e-02 -4.04852107e-02  1.24935113e-01\n",
      "  6.02790415e-02  8.18674862e-02  1.62209570e-02 -1.69777900e-01\n",
      " -7.06513375e-02  7.60933906e-02 -5.20882197e-02  1.49632901e-01\n",
      " -3.25291529e-02 -1.82372630e-01  7.19833672e-02  9.80063155e-02\n",
      " -1.10362917e-02  2.61847563e-02  4.26591039e-02 -1.21035390e-01\n",
      "  9.74704400e-02 -7.79527053e-02 -4.56650071e-02 -9.94799361e-02\n",
      " -2.33887285e-02  4.18385454e-02  2.00512797e-01  2.43041590e-01\n",
      " -2.05890723e-02 -5.70211858e-02 -1.29161075e-01  4.89452966e-02\n",
      " -2.84761548e-01 -1.36240184e-01 -1.06358044e-02 -1.43768206e-01\n",
      "  1.51653243e-02 -1.39043868e-01 -4.35178913e-02 -5.94960190e-02\n",
      " -1.76351413e-01 -1.85063377e-01 -1.84668286e-03 -1.16173085e-02\n",
      "  2.23021153e-02  2.04645470e-02 -9.71965790e-02  1.13199748e-01\n",
      "  2.54501514e-02  1.39433220e-01  2.60573421e-02 -2.10299622e-03\n",
      "  7.50885010e-02 -2.72766445e-02 -3.14200699e-01 -9.85333323e-02\n",
      " -2.40339503e-01  2.04978138e-01 -3.44577469e-02 -1.00743783e-07\n",
      " -4.44203392e-02  1.70346927e-02 -2.91476734e-02  1.17771411e-02\n",
      " -1.13676712e-02  3.78434211e-02 -9.21002217e-03  2.09419876e-01\n",
      "  2.18139533e-02 -8.28285608e-03  5.08423336e-02 -8.92989933e-02\n",
      " -7.49923661e-02 -3.13242003e-02  2.00733453e-01  2.94110359e-04\n",
      "  9.69840288e-02  5.08928522e-02  9.36958119e-02 -7.89016336e-02\n",
      "  1.28862754e-01  7.50308856e-02 -2.05310181e-01  4.16052677e-02\n",
      "  5.17614037e-02  7.70925218e-03 -3.54483724e-02 -8.66679624e-02\n",
      " -9.66462716e-02 -4.51835878e-02 -6.53769970e-02 -1.87271640e-01\n",
      "  7.53491372e-02 -4.23014574e-02  1.00096196e-01 -1.16997520e-02\n",
      "  3.04846223e-02 -5.81447445e-02  4.67558242e-02  1.78566441e-01\n",
      " -1.25487044e-01  2.55012244e-01 -1.08249234e-02 -1.18215038e-02\n",
      " -7.12748989e-02 -6.30656108e-02 -3.47665660e-02  1.33966908e-01\n",
      "  3.13128568e-02  4.29236926e-02 -1.61035862e-02 -1.18265087e-02\n",
      " -5.05512580e-02  7.80412108e-02  1.03692375e-01  6.59196228e-02\n",
      "  2.00782679e-02 -5.44956662e-02  1.00295760e-01  1.83180794e-01\n",
      "  9.02101174e-02  4.23898287e-02 -2.11904347e-02  7.80523345e-02]\n"
     ]
    }
   ],
   "source": [
    "print(Amatcher.job.embedding)"
   ]
  },
  {
   "cell_type": "code",
   "execution_count": 2,
   "metadata": {},
   "outputs": [
    {
     "name": "stderr",
     "output_type": "stream",
     "text": [
      "2025-04-02 15:09:45,021 - numexpr.utils - INFO - NumExpr defaulting to 10 threads.\n",
      "/opt/anaconda3/envs/testenv/lib/python3.9/site-packages/sklearn/feature_extraction/text.py:521: UserWarning: The parameter 'token_pattern' will not be used since 'tokenizer' is not None'\n",
      "  warnings.warn(\n"
     ]
    },
    {
     "data": {
      "text/plain": [
       "0.22545170456471447"
      ]
     },
     "execution_count": 2,
     "metadata": {},
     "output_type": "execute_result"
    }
   ],
   "source": [
    "from matcher import BiasedDocumentMatcher\n",
    "Amatcher = BiasedDocumentMatcher({\n",
    "    'remove_stopwords': True,\n",
    "    'lemmatize': True,\n",
    "    'similarity_method': 'bow',  # Can be 'tfidf' or 'bow'\n",
    "})\n",
    "\n",
    "Amatcher.calculate_similarity(resume_tochi, de_job_text)\n"
   ]
  },
  {
   "cell_type": "code",
   "execution_count": 3,
   "metadata": {},
   "outputs": [
    {
     "name": "stdout",
     "output_type": "stream",
     "text": [
      "\n",
      "Top 5 Matches for FE2.txt:\n",
      "1. frontend_genie.txt: 0.31\n",
      "2. frontend_claude.txt: 0.28\n",
      "3. frontend.txt: 0.27\n",
      "4. tester.txt: 0.15\n",
      "5. accounting.txt: 0.13\n",
      "\n",
      "Top 5 Matches for FE.txt:\n",
      "1. frontend_genie.txt: 0.41\n",
      "2. frontend_claude.txt: 0.32\n",
      "3. frontend.txt: 0.31\n",
      "4. tester.txt: 0.12\n",
      "5. dataeng.txt: 0.06\n",
      "\n",
      "Top 5 Matches for TE.txt:\n",
      "1. tester.txt: 0.46\n",
      "2. frontend_genie.txt: 0.15\n",
      "3. accounting.txt: 0.12\n",
      "4. frontend_claude.txt: 0.11\n",
      "5. frontend.txt: 0.06\n",
      "\n",
      "Top 5 Matches for DE.txt:\n",
      "1. dataeng.txt: 0.69\n",
      "2. frontend_genie.txt: 0.15\n",
      "3. frontend.txt: 0.13\n",
      "4. frontend_claude.txt: 0.12\n",
      "5. accounting.txt: 0.09\n"
     ]
    }
   ],
   "source": [
    "import os\n",
    "\n",
    "def main():\n",
    "    method = 'bow'\n",
    "    \n",
    "    Amatcher = BiasedDocumentMatcher({\n",
    "        'remove_stopwords': True,\n",
    "        'lemmatize': True,\n",
    "        'similarity_method': method,  # Can be 'tfidf' or 'bow'\n",
    "    })\n",
    "\n",
    "    Matchers = [ Amatcher]\n",
    "\n",
    "    # Directories containing the files\n",
    "    job_description_folder = 'job_texts'\n",
    "    resume_folder = 'resume_texts'\n",
    "\n",
    "    # Loop through files in the job description folder\n",
    "    for job_description_filename in os.listdir(job_description_folder):\n",
    "        job_description_path = os.path.join(job_description_folder, job_description_filename)\n",
    "        resume_similarities = []\n",
    "        \n",
    "        job_description = read_text_file(job_description_path).strip()\n",
    "\n",
    "        # Loop through files in the resume folder\n",
    "        for resume_filename in os.listdir(resume_folder):\n",
    "            resume_path = os.path.join(resume_folder, resume_filename)\n",
    "            resume = read_text_file(resume_path).strip()\n",
    "            res = [matcher.calculate_similarity(job_description, resume) for matcher in Matchers]\n",
    "            resume_similarities.append((res, resume_filename))\n",
    "\n",
    "        # Sort and print top matches (Sort by first similarity score)\n",
    "        resume_similarities.sort(reverse=True, key=lambda x: x[0])\n",
    "        print()\n",
    "        print(f\"Top 5 Matches for {job_description_filename}:\")\n",
    "        for i, (res, resume_filename) in enumerate(resume_similarities[:5]):\n",
    "            score_str = ', '.join(f\"{s:.2f}\" for s in res)\n",
    "            print(f\"{i+1}. {resume_filename}: {score_str}\")\n",
    "\n",
    "if __name__ == \"__main__\":\n",
    "    main()\n"
   ]
  },
  {
   "cell_type": "markdown",
   "metadata": {},
   "source": [
    "\n",
    "Top 5 Matches for FE2.txt:\n",
    "1. frontend_genie.txt: 0.31\n",
    "2. frontend_claude.txt: 0.28\n",
    "3. frontend.txt: 0.27\n",
    "4. tester.txt: 0.15\n",
    "5. accounting.txt: 0.13\n",
    "\n",
    "Top 5 Matches for FE.txt:\n",
    "1. frontend_genie.txt: 0.41\n",
    "2. frontend_claude.txt: 0.32\n",
    "3. frontend.txt: 0.31\n",
    "4. tester.txt: 0.12\n",
    "5. dataeng.txt: 0.06\n",
    "\n",
    "Top 5 Matches for TE.txt:\n",
    "1. tester.txt: 0.46\n",
    "2. frontend_genie.txt: 0.15\n",
    "3. accounting.txt: 0.12\n",
    "4. frontend_claude.txt: 0.11\n",
    "5. frontend.txt: 0.06\n",
    "\n",
    "Top 5 Matches for DE.txt:\n",
    "1. dataeng.txt: 0.69\n",
    "2. frontend_genie.txt: 0.15\n",
    "3. frontend.txt: 0.13\n",
    "4. frontend_claude.txt: 0.12\n",
    "5. accounting.txt: 0.09"
   ]
  }
 ],
 "metadata": {
  "kernelspec": {
   "display_name": "testenv",
   "language": "python",
   "name": "python3"
  },
  "language_info": {
   "codemirror_mode": {
    "name": "ipython",
    "version": 3
   },
   "file_extension": ".py",
   "mimetype": "text/x-python",
   "name": "python",
   "nbconvert_exporter": "python",
   "pygments_lexer": "ipython3",
   "version": "3.9.19"
  }
 },
 "nbformat": 4,
 "nbformat_minor": 2
}
