{
 "cells": [
  {
   "cell_type": "code",
   "execution_count": null,
   "id": "8b34a4ba",
   "metadata": {},
   "outputs": [],
   "source": [
    "from sentence_transformers import SentenceTransformer, InputExample, losses\n",
    "from torch.utils.data import DataLoader\n",
    "\n",
    "# 1. Load pretrained model\n",
    "model = SentenceTransformer('all-MiniLM-L6-v2')\n",
    "\n",
    "# 2. Prepare your data\n",
    "train_examples = [\n",
    "    InputExample(texts=[\"JD: Python developer\", \"Resume: Python ML engineer\"], label=1.0),\n",
    "    InputExample(texts=[\"JD: Python developer\", \"Resume: Fashion designer\"], label=0.0)\n",
    "]\n",
    "\n",
    "train_dataloader = DataLoader(train_examples, shuffle=True, batch_size=16)\n",
    "train_loss = losses.CosineSimilarityLoss(model)\n",
    "\n",
    "# 3. Train\n",
    "model.fit(train_objectives=[(train_dataloader, train_loss)],\n",
    "          epochs=3,\n",
    "          warmup_steps=10)\n",
    "\n",
    "# 4. Save your finetuned model\n",
    "model.save(\"output/sbert-finetuned\")\n"
   ]
  }
 ],
 "metadata": {
  "kernelspec": {
   "display_name": "testenv",
   "language": "python",
   "name": "python3"
  },
  "language_info": {
   "name": "python",
   "version": "3.9.19"
  }
 },
 "nbformat": 4,
 "nbformat_minor": 5
}
