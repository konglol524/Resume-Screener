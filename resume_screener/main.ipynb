{
 "cells": [
  {
   "cell_type": "code",
   "execution_count": 1,
   "metadata": {},
   "outputs": [],
   "source": [
    "from data_extraction import extract_text_from_pdf, read_text_file"
   ]
  },
  {
   "cell_type": "code",
   "execution_count": 2,
   "metadata": {},
   "outputs": [
    {
     "name": "stderr",
     "output_type": "stream",
     "text": [
      "2025-04-28 19:40:14,994 - numexpr.utils - INFO - NumExpr defaulting to 10 threads.\n"
     ]
    }
   ],
   "source": [
    "import csv\n",
    "import pandas as pd"
   ]
  },
  {
   "cell_type": "code",
   "execution_count": 3,
   "metadata": {},
   "outputs": [
    {
     "name": "stdout",
     "output_type": "stream",
     "text": [
      "Accountant - AP (Yearly Contract)\n",
      "Job Description\n",
      " Role purpose\n",
      "Accountant ( AP ) is responsible for receiving, processing, and verifying invoices related to accounts payables. The role of an Accounts Payable is to provide financial and administrative support for the organization. They process payments, verify invoices and reconcile all expenses to keep track of what's going out of the business.\n",
      "Accountabilities\n",
      "Completing day-to-day accounts payable activities and operations, including managing and maintaining accounts payable, ensuring accuracy and timeliness.\n",
      "Upload vendor invoice in self-scan portal\n",
      "Manage Vendor payment details to ensure there are no errors when processing payments.\n",
      "Prepared Vat report and document support\n",
      "Prepared withholding tax report & submission\n",
      "Prepared withholding tax from Concur system (100-150 items per entities, in total 3 entities)\n",
      "Reconcile outstanding payments for concur system on an ongoing basis to ensure no orders or payments are missed or unmatched.\n",
      "Provide and send out withholding tax certificate to Vendors\n",
      "Preparing and submitting the documents in relation to Withholding Tax and VAT in a timely manner.\n",
      "Support admin works and filing\n",
      "Cooperation with share service team in India.\n",
      "\n",
      "Qualifications\n",
      " Knowledge, experience & capabilities\n",
      "Bachelor’s Degree or Master's Degree in Accounting or Finance\n",
      "1-2 Years working experience as Account Payable / Accounting (GL) or related fields.\n",
      "Good basic tax knowledge.\n",
      "Ability to work independently, and under pressure\n",
      "Proficiency with Microsoft Office Excel\n",
      "Critical technical, professional and personal capabilities\n",
      "Customer oriented\n",
      "Strong interpersonal skills\n",
      "Influencing and negotiating skills\n",
      "Communication both English and Thai and presentation skills\n",
      "SAP and Concur Experience\n",
      "\n"
     ]
    }
   ],
   "source": [
    "\n",
    "df = pd.read_csv('./data/job/Accountant.csv')\n",
    "print(df.head(5)['Job description'][3])"
   ]
  },
  {
   "cell_type": "code",
   "execution_count": 4,
   "metadata": {},
   "outputs": [],
   "source": [
    "import os\n",
    "import re\n",
    "import numpy as np\n",
    "import pandas as pd\n",
    "from typing import List, Tuple, Dict\n",
    "import string\n",
    "import nltk\n",
    "import scipy.sparse as sp\n",
    "from sklearn.feature_extraction.text import TfidfVectorizer, CountVectorizer\n",
    "from sklearn.metrics.pairwise import cosine_similarity\n",
    "from nltk.corpus import stopwords, wordnet\n",
    "from nltk.stem import WordNetLemmatizer\n",
    "from nltk.tokenize import word_tokenize\n",
    "\n",
    "# New imports for BERT with TensorFlow\n",
    "from transformers import TFBertModel, AutoTokenizer, TFAutoModel\n",
    "import tensorflow as tf\n",
    "\n",
    "# Download necessary NLTK resources\n",
    "nltk.download(\"punkt\", quiet=True)\n",
    "nltk.download(\"averaged_perceptron_tagger\", quiet=True)\n",
    "nltk.download(\"wordnet\", quiet=True)\n",
    "nltk.download(\"stopwords\", quiet=True)\n",
    "\n",
    "\n",
    "class BiasedDocumentMatcher:\n",
    "    def __init__(self, config: Dict = None, extra_keywords: List[str] = None):\n",
    "        \"\"\"\n",
    "        Advanced document matching with configurable NLP techniques and keyword scoring\n",
    "\n",
    "        Args:\n",
    "            config (Dict): Configuration dictionary for matching\n",
    "            extra_keywords (List[str]): List of keywords to give extra points for\n",
    "        \"\"\"\n",
    "        # Default configuration\n",
    "        self.config = {\n",
    "            \"remove_stopwords\": True,\n",
    "            \"lemmatize\": True,\n",
    "            \"similarity_method\": \"bow\",  # Options: \"bow\", \"tfidf\", or \"bert\"\n",
    "            \"use_keywords\": True,\n",
    "            \"keyword_weight\": 0.01,  # Weight for extra keywords\n",
    "        }\n",
    "\n",
    "        # Update with user-provided configuration\n",
    "        if config:\n",
    "            self.config.update(config)\n",
    "\n",
    "        # Initialize extra keywords\n",
    "        self.extra_keywords = set(extra_keywords) if extra_keywords else set()\n",
    "\n",
    "        # Initialize resources for classical NLP methods\n",
    "        self.lemmatizer = WordNetLemmatizer()\n",
    "        self.stop_words = (\n",
    "            set(stopwords.words(\"english\"))\n",
    "            if self.config[\"remove_stopwords\"]\n",
    "            else set()\n",
    "        )\n",
    "        # Verb tags to remove\n",
    "        self.verb_tags = [\"VB\", \"VBD\", \"VBG\", \"VBN\", \"VBP\", \"VBZ\"]\n",
    "\n",
    "        # If using BERT for similarity, initialize the tokenizer and TensorFlow model.\n",
    "        if self.config[\"similarity_method\"] == \"bert\":\n",
    "            #TensorFlow compatible SBERT model from Hugging Face.\n",
    "            self.tokenizer = AutoTokenizer.from_pretrained(\"sentence-transformers/all-MiniLM-L6-v2\")\n",
    "            self.model = TFAutoModel.from_pretrained(\"sentence-transformers/all-MiniLM-L6-v2\")\n",
    "\n",
    "    def get_bert_embedding(self, text: str) -> np.ndarray:\n",
    "        \"\"\"\n",
    "        Get BERT embedding for the given text using TensorFlow\n",
    "\n",
    "        Args:\n",
    "            text (str): Input text\n",
    "\n",
    "        Returns:\n",
    "            np.ndarray: Dense embedding vector\n",
    "        \"\"\"\n",
    "        # Tokenize and encode text using BERT's tokenizer with TensorFlow tensors.\n",
    "        inputs = self.tokenizer(text, return_tensors=\"tf\", truncation=True, padding=True)\n",
    "        outputs = self.model(inputs)\n",
    "        # Mean pool over token embeddings (last_hidden_state shape: [batch_size, seq_len, hidden_size])\n",
    "        embedding = tf.reduce_mean(outputs.last_hidden_state, axis=1).numpy()[0]\n",
    "        return embedding\n",
    "    \n",
    "    def process_texts(self, text: str) -> str:\n",
    "        text = text.lower()\n",
    "        text = re.sub('\\n', ' ', text)  # remove new line characters\n",
    "        text  = re.sub('http\\S+\\s*', ' ', text)  # remove URLs\n",
    "        text = re.sub(r'[^\\x00-\\x7f]',r' ', text) #remove extra characters\n",
    "        text = re.sub('\\s+', ' ', text)  # remove extra whitespace        \n",
    "        text = re.sub('[^a-zA-Z1-9]', ' ', text)\n",
    "        return text\n",
    "\n",
    "    def process_tokens(self, text: str) -> List[str]:\n",
    "        \"\"\"\n",
    "        Advanced text preprocessing\n",
    "\n",
    "        Args:\n",
    "            text (str): Input text\n",
    "\n",
    "        Returns:\n",
    "            List[str]: Preprocessed tokens\n",
    "        \"\"\"\n",
    "        #text = re.sub(r\"[^a-zA-Z1-9\\s]\", \"\", text)\n",
    "        tokens = word_tokenize(text)\n",
    "        # Part of speech tagging\n",
    "        pos_tags = nltk.pos_tag(tokens)\n",
    "\n",
    "        # Preprocessing\n",
    "        processed_tokens = []\n",
    "        for token, pos in pos_tags:\n",
    "            # Skip numbers\n",
    "            if token.isdigit():\n",
    "                continue\n",
    "\n",
    "            # Lemmatize\n",
    "            if self.config[\"lemmatize\"]:\n",
    "                token = self.lemmatizer.lemmatize(token)\n",
    "\n",
    "            # Skip stopwords\n",
    "            if self.config[\"remove_stopwords\"] and token in self.stop_words:\n",
    "                continue\n",
    "\n",
    "            # Skip verbs\n",
    "            if pos in self.verb_tags:\n",
    "                continue\n",
    "\n",
    "            # Skip grammatical words\n",
    "            if pos in ['DT', 'IN', 'TO', 'PRP', 'WP']:\n",
    "                continue\n",
    "\n",
    "            processed_tokens.append(token)\n",
    "\n",
    "        return processed_tokens\n",
    "\n",
    "    def add_extra_keywords(self, new_keywords: List[str]) -> None:\n",
    "        \"\"\"\n",
    "        Add extra keywords to give bonus points\n",
    "\n",
    "        Args:\n",
    "            new_keywords (List[str]): List of keywords to add\n",
    "        \"\"\"\n",
    "        self.extra_keywords.update(new_keywords)\n",
    "\n",
    "    def calculate_keyword_bonus(self, doc_tokens: List[str]) -> float:\n",
    "        \"\"\"\n",
    "        Calculate bonus points for extra keywords\n",
    "\n",
    "        Args:\n",
    "            doc_tokens (List[str]): Preprocessed document tokens\n",
    "\n",
    "        Returns:\n",
    "            float: Keyword bonus score\n",
    "        \"\"\"\n",
    "        bonus = 0\n",
    "        if self.config[\"use_keywords\"]:\n",
    "            # Find matches between document tokens and extra keywords\n",
    "            keyword_matches = set(doc_tokens) & self.extra_keywords\n",
    "            # Calculate bonus based on number of matches\n",
    "            bonus = len(keyword_matches) * self.config[\"keyword_weight\"]\n",
    "        return bonus\n",
    "\n",
    "\n",
    "\n",
    "    def calculate_similarity(self, doc1_text: str, doc2_text: str) -> float:\n",
    "        \"\"\"\n",
    "        Calculate advanced similarity between two documents\n",
    "\n",
    "        Args:\n",
    "            doc1_text (str): First document\n",
    "            doc2_text (str): Second document\n",
    "\n",
    "        Returns:\n",
    "            float: Similarity score\n",
    "        \"\"\"\n",
    "        #Basic clean up\n",
    "        doc1_text = self.process_texts(doc1_text)\n",
    "        doc2_text = self.process_texts(doc2_text)\n",
    "\n",
    "        # Calculate keyword bonus for the first document\n",
    "        doc1_tokens = self.process_tokens(doc1_text)\n",
    "        keyword_bonus = self.calculate_keyword_bonus(doc1_tokens)\n",
    "\n",
    "        # Choose vectorization method based on configuration\n",
    "        if self.config[\"similarity_method\"] == \"bert\":\n",
    "            # Use BERT embeddings (TensorFlow version)\n",
    "            emb1 = self.get_bert_embedding(doc1_text)\n",
    "            emb2 = self.get_bert_embedding(doc2_text)\n",
    "            similarity = cosine_similarity([emb1], [emb2])[0][0]\n",
    "        else:\n",
    "            # For \"tfidf\" or \"bow\", preprocess the text into tokens first.\n",
    "            doc1_tokens = self.process_tokens(doc1_text)\n",
    "            doc2_tokens = self.process_tokens(doc2_text)\n",
    "\n",
    "            # Choose vectorizer based on configuration\n",
    "            if self.config[\"similarity_method\"] == \"tfidf\":\n",
    "                vectorizer = TfidfVectorizer(\n",
    "                    preprocessor=self.process_tokens,\n",
    "                    tokenizer=lambda x: x,\n",
    "                    lowercase=False,\n",
    "                )\n",
    "            else:  # Default: Bag of Words\n",
    "                vectorizer = CountVectorizer(\n",
    "                    preprocessor=self.process_tokens,\n",
    "                    tokenizer=lambda x: x,\n",
    "                    lowercase=False,\n",
    "                )\n",
    "            # Combine documents for vectorization\n",
    "            doc_matrix = vectorizer.fit_transform(\n",
    "                [\" \".join(doc1_tokens), \" \".join(doc2_tokens)]\n",
    "            )\n",
    "            similarity = cosine_similarity(doc_matrix[0:1], doc_matrix[1:2])[0][0]\n",
    "\n",
    "        # Combine similarity with keyword bonus\n",
    "        final_score = similarity + keyword_bonus\n",
    "        return final_score\n"
   ]
  },
  {
   "cell_type": "code",
   "execution_count": null,
   "metadata": {},
   "outputs": [
    {
     "name": "stderr",
     "output_type": "stream",
     "text": [
      "Some weights of the PyTorch model were not used when initializing the TF 2.0 model TFBertModel: ['embeddings.position_ids']\n",
      "- This IS expected if you are initializing TFBertModel from a PyTorch model trained on another task or with another architecture (e.g. initializing a TFBertForSequenceClassification model from a BertForPreTraining model).\n",
      "- This IS NOT expected if you are initializing TFBertModel from a PyTorch model that you expect to be exactly identical (e.g. initializing a TFBertForSequenceClassification model from a BertForSequenceClassification model).\n",
      "All the weights of TFBertModel were initialized from the PyTorch model.\n",
      "If your task is similar to the task the model of the checkpoint was trained on, you can already use TFBertModel for predictions without further training.\n"
     ]
    },
    {
     "name": "stdout",
     "output_type": "stream",
     "text": [
      "\n",
      "Top 5 Matches for FE2.txt:\n",
      "1. frontend_claude.txt: 0.68\n",
      "2. frontend_genie.txt: 0.67\n",
      "3. frontend.txt: 0.58\n",
      "4. tester.txt: 0.34\n",
      "5. dataeng.txt: 0.31\n",
      "6. accounting.txt: 0.25\n",
      "7. law.txt: 0.15\n",
      "\n",
      "Top 5 Matches for FE.txt:\n",
      "1. frontend_genie.txt: 0.63\n",
      "2. frontend_claude.txt: 0.56\n",
      "3. frontend.txt: 0.51\n",
      "4. tester.txt: 0.33\n",
      "5. dataeng.txt: 0.28\n",
      "6. accounting.txt: 0.11\n",
      "7. law.txt: 0.08\n",
      "\n",
      "Top 5 Matches for TE.txt:\n",
      "1. tester.txt: 0.57\n",
      "2. dataeng.txt: 0.37\n",
      "3. frontend_genie.txt: 0.34\n",
      "4. frontend.txt: 0.27\n",
      "5. accounting.txt: 0.27\n",
      "6. frontend_claude.txt: 0.27\n",
      "7. law.txt: 0.26\n",
      "\n",
      "Top 5 Matches for DE.txt:\n",
      "1. dataeng.txt: 0.69\n",
      "2. tester.txt: 0.48\n",
      "3. frontend_claude.txt: 0.40\n",
      "4. frontend_genie.txt: 0.37\n",
      "5. frontend.txt: 0.37\n",
      "6. accounting.txt: 0.32\n",
      "7. law.txt: 0.29\n"
     ]
    }
   ],
   "source": [
    "import os\n",
    "from matcher import BiasedDocumentMatcher\n",
    "\n",
    "def main():\n",
    "    method = 'bow'\n",
    "    \n",
    "    Amatcher = BiasedDocumentMatcher({\n",
    "        'remove_stopwords': True,\n",
    "        'lemmatize': True,\n",
    "        'similarity_method': method,  # Can be 'tfidf' or 'bow'\n",
    "    })\n",
    "\n",
    "    Matchers = [ Amatcher]\n",
    "\n",
    "    # Directories containing the files\n",
    "    job_description_folder = 'job_texts'\n",
    "    resume_folder = 'resume_texts'\n",
    "\n",
    "    # Loop through files in the job description folder\n",
    "    for job_description_filename in os.listdir(job_description_folder):\n",
    "        job_description_path = os.path.join(job_description_folder, job_description_filename)\n",
    "        resume_similarities = []\n",
    "        \n",
    "        job_description = read_text_file(job_description_path).strip()\n",
    "\n",
    "        # Loop through files in the resume folder\n",
    "        for resume_filename in os.listdir(resume_folder):\n",
    "            resume_path = os.path.join(resume_folder, resume_filename)\n",
    "            resume = read_text_file(resume_path).strip()\n",
    "            res = [matcher.calculate_similarity(job_description, resume) for matcher in Matchers]\n",
    "            resume_similarities.append((res, resume_filename))\n",
    "\n",
    "        # Sort and print top matches (Sort by first similarity score)\n",
    "        resume_similarities.sort(reverse=True, key=lambda x: x[0])\n",
    "        print()\n",
    "        print(f\"Top 5 Matches for {job_description_filename}:\")\n",
    "        for i, (res, resume_filename) in enumerate(resume_similarities):\n",
    "            score_str = ', '.join(f\"{s:.2f}\" for s in res)\n",
    "            print(f\"{i+1}. {resume_filename}: {score_str}\")\n",
    "\n",
    "if __name__ == \"__main__\":\n",
    "    main()\n"
   ]
  },
  {
   "cell_type": "markdown",
   "metadata": {},
   "source": [
    "Top 5 Matches for FE2.txt:\n",
    "1. frontend_claude.txt: 0.68\n",
    "2. frontend_genie.txt: 0.67\n",
    "3. frontend.txt: 0.58\n",
    "4. tester.txt: 0.34\n",
    "5. dataeng.txt: 0.31\n",
    "6. accounting.txt: 0.25\n",
    "7. law.txt: 0.15\n",
    "\n",
    "Top 5 Matches for FE.txt:\n",
    "1. frontend_genie.txt: 0.63\n",
    "2. frontend_claude.txt: 0.56\n",
    "3. frontend.txt: 0.51\n",
    "4. tester.txt: 0.33\n",
    "5. dataeng.txt: 0.28\n",
    "6. accounting.txt: 0.11\n",
    "7. law.txt: 0.08\n",
    "\n",
    "Top 5 Matches for TE.txt:\n",
    "1. tester.txt: 0.57\n",
    "2. dataeng.txt: 0.37\n",
    "3. frontend_genie.txt: 0.34\n",
    "4. frontend.txt: 0.27\n",
    "5. accounting.txt: 0.27\n",
    "6. frontend_claude.txt: 0.27\n",
    "7. law.txt: 0.26\n",
    "\n",
    "Top 5 Matches for DE.txt:\n",
    "1. dataeng.txt: 0.69\n",
    "2. tester.txt: 0.48\n",
    "3. frontend_claude.txt: 0.40\n",
    "4. frontend_genie.txt: 0.37\n",
    "5. frontend.txt: 0.37\n",
    "6. accounting.txt: 0.32\n",
    "7. law.txt: 0.29"
   ]
  },
  {
   "cell_type": "markdown",
   "metadata": {},
   "source": [
    "Measuring Performance"
   ]
  },
  {
   "cell_type": "code",
   "execution_count": 7,
   "metadata": {},
   "outputs": [
    {
     "data": {
      "text/html": [
       "<div>\n",
       "<style scoped>\n",
       "    .dataframe tbody tr th:only-of-type {\n",
       "        vertical-align: middle;\n",
       "    }\n",
       "\n",
       "    .dataframe tbody tr th {\n",
       "        vertical-align: top;\n",
       "    }\n",
       "\n",
       "    .dataframe thead th {\n",
       "        text-align: right;\n",
       "    }\n",
       "</style>\n",
       "<table border=\"1\" class=\"dataframe\">\n",
       "  <thead>\n",
       "    <tr style=\"text-align: right;\">\n",
       "      <th></th>\n",
       "      <th>Job Title</th>\n",
       "      <th>Job description</th>\n",
       "    </tr>\n",
       "  </thead>\n",
       "  <tbody>\n",
       "    <tr>\n",
       "      <th>0</th>\n",
       "      <td>interior design</td>\n",
       "      <td>Interior Design Service Specialist - IKEA Bang...</td>\n",
       "    </tr>\n",
       "    <tr>\n",
       "      <th>1</th>\n",
       "      <td>interior design</td>\n",
       "      <td>Intermediate Interior Designer\\nFull job descr...</td>\n",
       "    </tr>\n",
       "    <tr>\n",
       "      <th>2</th>\n",
       "      <td>interior design</td>\n",
       "      <td>Senior Interior Designer\\nAbout this role:\\nTh...</td>\n",
       "    </tr>\n",
       "    <tr>\n",
       "      <th>3</th>\n",
       "      <td>interior design</td>\n",
       "      <td>Interior Designer - Workplace - Mid Level\\nFul...</td>\n",
       "    </tr>\n",
       "    <tr>\n",
       "      <th>4</th>\n",
       "      <td>interior design</td>\n",
       "      <td>Senior FF&amp;E Designer / FF&amp;E Designer\\nFull job...</td>\n",
       "    </tr>\n",
       "    <tr>\n",
       "      <th>5</th>\n",
       "      <td>Lawyer</td>\n",
       "      <td>Lawyer\\nROLE &amp; RESPONSIBILITY\\nDraft, review, ...</td>\n",
       "    </tr>\n",
       "    <tr>\n",
       "      <th>6</th>\n",
       "      <td>Lawyer</td>\n",
       "      <td>Lawyer - Litigator\\nFull job description\\nLawy...</td>\n",
       "    </tr>\n",
       "    <tr>\n",
       "      <th>7</th>\n",
       "      <td>Lawyer</td>\n",
       "      <td>TRANSACTIONAL LAWYER URGENT\\nJob Descriptions ...</td>\n",
       "    </tr>\n",
       "    <tr>\n",
       "      <th>8</th>\n",
       "      <td>Lawyer</td>\n",
       "      <td>Junior-Level / Mid-Level Associate: Litigation...</td>\n",
       "    </tr>\n",
       "    <tr>\n",
       "      <th>9</th>\n",
       "      <td>Lawyer</td>\n",
       "      <td>Senior Corporate Lawyer (5+ Years’ Experience)...</td>\n",
       "    </tr>\n",
       "    <tr>\n",
       "      <th>10</th>\n",
       "      <td>PR</td>\n",
       "      <td>Senior PR Specialist\\nFull job description\\nYo...</td>\n",
       "    </tr>\n",
       "    <tr>\n",
       "      <th>11</th>\n",
       "      <td>PR</td>\n",
       "      <td>Intern, PR &amp; Communications\\nJob Description\\n...</td>\n",
       "    </tr>\n",
       "    <tr>\n",
       "      <th>12</th>\n",
       "      <td>PR</td>\n",
       "      <td>Cluster Marcom &amp; PR Admin Assistant\\nPOSITION ...</td>\n",
       "    </tr>\n",
       "    <tr>\n",
       "      <th>13</th>\n",
       "      <td>PR</td>\n",
       "      <td>Sales and Business Development\\nFull job descr...</td>\n",
       "    </tr>\n",
       "    <tr>\n",
       "      <th>14</th>\n",
       "      <td>PR</td>\n",
       "      <td>PR Manager\\nFull job description\\nApple's comm...</td>\n",
       "    </tr>\n",
       "    <tr>\n",
       "      <th>15</th>\n",
       "      <td>Accountant</td>\n",
       "      <td>Junior Accountant\\nFull job description\\nWe ar...</td>\n",
       "    </tr>\n",
       "    <tr>\n",
       "      <th>16</th>\n",
       "      <td>Accountant</td>\n",
       "      <td>Junior Accountant (Fresh graduates are welcome...</td>\n",
       "    </tr>\n",
       "    <tr>\n",
       "      <th>17</th>\n",
       "      <td>Accountant</td>\n",
       "      <td>AP Accountant I\\nJob Responsibilities\\nEnd to ...</td>\n",
       "    </tr>\n",
       "    <tr>\n",
       "      <th>18</th>\n",
       "      <td>Accountant</td>\n",
       "      <td>Accountant - AP (Yearly Contract)\\nJob Descrip...</td>\n",
       "    </tr>\n",
       "    <tr>\n",
       "      <th>19</th>\n",
       "      <td>Accountant</td>\n",
       "      <td>Accountant\\nJob Description\\n Your Role\\nAccou...</td>\n",
       "    </tr>\n",
       "    <tr>\n",
       "      <th>20</th>\n",
       "      <td>Front-end Developer</td>\n",
       "      <td>Front-End Flutter &amp; React\\nMain Responsibiliti...</td>\n",
       "    </tr>\n",
       "    <tr>\n",
       "      <th>21</th>\n",
       "      <td>Front-end Developer</td>\n",
       "      <td>Front-End Developer (React)\\nResponsibilities:...</td>\n",
       "    </tr>\n",
       "    <tr>\n",
       "      <th>22</th>\n",
       "      <td>Front-end Developer</td>\n",
       "      <td>Junior Front-End Developer\\nFull job descripti...</td>\n",
       "    </tr>\n",
       "    <tr>\n",
       "      <th>23</th>\n",
       "      <td>Front-end Developer</td>\n",
       "      <td>Front-End Developer\\nAbout the job:\\nAs a .NET...</td>\n",
       "    </tr>\n",
       "    <tr>\n",
       "      <th>24</th>\n",
       "      <td>Front-end Developer</td>\n",
       "      <td>Front-End Developer\\nPaired is a global staffi...</td>\n",
       "    </tr>\n",
       "    <tr>\n",
       "      <th>25</th>\n",
       "      <td>Flight Attendant</td>\n",
       "      <td>Flight Attendant\\nFull job description\\nServes...</td>\n",
       "    </tr>\n",
       "    <tr>\n",
       "      <th>26</th>\n",
       "      <td>Flight Attendant</td>\n",
       "      <td>Cabin Attendant (Las Vegas Based)\\nPosition Su...</td>\n",
       "    </tr>\n",
       "    <tr>\n",
       "      <th>27</th>\n",
       "      <td>Flight Attendant</td>\n",
       "      <td>VIP Flight Attendant - Los Angeles based\\nFull...</td>\n",
       "    </tr>\n",
       "    <tr>\n",
       "      <th>28</th>\n",
       "      <td>Flight Attendant</td>\n",
       "      <td>Flight Attendant\\nFull job description\\nAbout ...</td>\n",
       "    </tr>\n",
       "    <tr>\n",
       "      <th>29</th>\n",
       "      <td>Flight Attendant</td>\n",
       "      <td>Flight Attendant\\nFull job description\\nAbout ...</td>\n",
       "    </tr>\n",
       "    <tr>\n",
       "      <th>30</th>\n",
       "      <td>chef</td>\n",
       "      <td>Executive Chef\\nFull job description\\nJoin Our...</td>\n",
       "    </tr>\n",
       "    <tr>\n",
       "      <th>31</th>\n",
       "      <td>chef</td>\n",
       "      <td>Executive Chef\\nJob Description\\n As Executive...</td>\n",
       "    </tr>\n",
       "    <tr>\n",
       "      <th>32</th>\n",
       "      <td>chef</td>\n",
       "      <td>Chef de Partie\\nJob Description\\n Members of t...</td>\n",
       "    </tr>\n",
       "    <tr>\n",
       "      <th>33</th>\n",
       "      <td>chef</td>\n",
       "      <td>Seafood Head Chef\\nFull job description\\nWe ar...</td>\n",
       "    </tr>\n",
       "    <tr>\n",
       "      <th>34</th>\n",
       "      <td>chef</td>\n",
       "      <td>Demi Chef - Western\\nJob Description\\n As Demi...</td>\n",
       "    </tr>\n",
       "    <tr>\n",
       "      <th>35</th>\n",
       "      <td>UX/UI Designer</td>\n",
       "      <td>UX/UI Designer\\n\\nFull job description\\nWe are...</td>\n",
       "    </tr>\n",
       "    <tr>\n",
       "      <th>36</th>\n",
       "      <td>UX/UI Designer</td>\n",
       "      <td>UX/UI Designer\\n\\nFull job description\\n\\nDo y...</td>\n",
       "    </tr>\n",
       "    <tr>\n",
       "      <th>37</th>\n",
       "      <td>UX/UI Designer</td>\n",
       "      <td>UX/UI Designer (Business One)\\n\\nJob Descripti...</td>\n",
       "    </tr>\n",
       "    <tr>\n",
       "      <th>38</th>\n",
       "      <td>UX/UI Designer</td>\n",
       "      <td>Graphics Designer (Remote)\\nHere's how you'll ...</td>\n",
       "    </tr>\n",
       "    <tr>\n",
       "      <th>39</th>\n",
       "      <td>UX/UI Designer</td>\n",
       "      <td>UX/UI Designer\\n\\nFull job description\\n\\nCond...</td>\n",
       "    </tr>\n",
       "    <tr>\n",
       "      <th>40</th>\n",
       "      <td>Project Manager</td>\n",
       "      <td>Project Manager, Procurement, INVERTO\\nWhat Yo...</td>\n",
       "    </tr>\n",
       "    <tr>\n",
       "      <th>41</th>\n",
       "      <td>Project Manager</td>\n",
       "      <td>Business Development Manager (Thai national)\\n...</td>\n",
       "    </tr>\n",
       "    <tr>\n",
       "      <th>42</th>\n",
       "      <td>Project Manager</td>\n",
       "      <td>Project Manager - Business Development for Ort...</td>\n",
       "    </tr>\n",
       "    <tr>\n",
       "      <th>43</th>\n",
       "      <td>Project Manager</td>\n",
       "      <td>PSB Project Manager\\nFull job description\\n\\nJ...</td>\n",
       "    </tr>\n",
       "    <tr>\n",
       "      <th>44</th>\n",
       "      <td>Project Manager</td>\n",
       "      <td>Project Management Associate\\nDuties and Respo...</td>\n",
       "    </tr>\n",
       "    <tr>\n",
       "      <th>45</th>\n",
       "      <td>Editor</td>\n",
       "      <td>YouTube Video Editor (Paranormal Content)\\nFul...</td>\n",
       "    </tr>\n",
       "    <tr>\n",
       "      <th>46</th>\n",
       "      <td>Editor</td>\n",
       "      <td>Creative Video Editor (TikTok &amp; IG Reels) – Pa...</td>\n",
       "    </tr>\n",
       "    <tr>\n",
       "      <th>47</th>\n",
       "      <td>Editor</td>\n",
       "      <td>Video Editor (Thailand)\\nFull job description\\...</td>\n",
       "    </tr>\n",
       "    <tr>\n",
       "      <th>48</th>\n",
       "      <td>Editor</td>\n",
       "      <td>Executive, Videographer &amp; Editor\\nFull job des...</td>\n",
       "    </tr>\n",
       "    <tr>\n",
       "      <th>49</th>\n",
       "      <td>Editor</td>\n",
       "      <td>Most Creative Content Coordinator\\nRole Overvi...</td>\n",
       "    </tr>\n",
       "  </tbody>\n",
       "</table>\n",
       "</div>"
      ],
      "text/plain": [
       "              Job Title                                    Job description\n",
       "0       interior design  Interior Design Service Specialist - IKEA Bang...\n",
       "1       interior design  Intermediate Interior Designer\\nFull job descr...\n",
       "2       interior design  Senior Interior Designer\\nAbout this role:\\nTh...\n",
       "3       interior design  Interior Designer - Workplace - Mid Level\\nFul...\n",
       "4       interior design  Senior FF&E Designer / FF&E Designer\\nFull job...\n",
       "5                Lawyer  Lawyer\\nROLE & RESPONSIBILITY\\nDraft, review, ...\n",
       "6                Lawyer  Lawyer - Litigator\\nFull job description\\nLawy...\n",
       "7                Lawyer  TRANSACTIONAL LAWYER URGENT\\nJob Descriptions ...\n",
       "8                Lawyer  Junior-Level / Mid-Level Associate: Litigation...\n",
       "9                Lawyer  Senior Corporate Lawyer (5+ Years’ Experience)...\n",
       "10                   PR  Senior PR Specialist\\nFull job description\\nYo...\n",
       "11                   PR  Intern, PR & Communications\\nJob Description\\n...\n",
       "12                   PR  Cluster Marcom & PR Admin Assistant\\nPOSITION ...\n",
       "13                   PR  Sales and Business Development\\nFull job descr...\n",
       "14                   PR  PR Manager\\nFull job description\\nApple's comm...\n",
       "15           Accountant  Junior Accountant\\nFull job description\\nWe ar...\n",
       "16           Accountant  Junior Accountant (Fresh graduates are welcome...\n",
       "17           Accountant  AP Accountant I\\nJob Responsibilities\\nEnd to ...\n",
       "18           Accountant  Accountant - AP (Yearly Contract)\\nJob Descrip...\n",
       "19           Accountant  Accountant\\nJob Description\\n\n",
       "Your Role\\nAccou...\n",
       "20  Front-end Developer  Front-End Flutter & React\\nMain Responsibiliti...\n",
       "21  Front-end Developer  Front-End Developer (React)\\nResponsibilities:...\n",
       "22  Front-end Developer  Junior Front-End Developer\\nFull job descripti...\n",
       "23  Front-end Developer  Front-End Developer\\nAbout the job:\\nAs a .NET...\n",
       "24  Front-end Developer  Front-End Developer\\nPaired is a global staffi...\n",
       "25     Flight Attendant  Flight Attendant\\nFull job description\\nServes...\n",
       "26     Flight Attendant  Cabin Attendant (Las Vegas Based)\\nPosition Su...\n",
       "27     Flight Attendant  VIP Flight Attendant - Los Angeles based\\nFull...\n",
       "28     Flight Attendant  Flight Attendant\\nFull job description\\nAbout ...\n",
       "29     Flight Attendant  Flight Attendant\\nFull job description\\nAbout ...\n",
       "30                 chef  Executive Chef\\nFull job description\\nJoin Our...\n",
       "31                 chef  Executive Chef\\nJob Description\\n\n",
       "As Executive...\n",
       "32                 chef  Chef de Partie\\nJob Description\\n\n",
       "Members of t...\n",
       "33                 chef  Seafood Head Chef\\nFull job description\\nWe ar...\n",
       "34                 chef  Demi Chef - Western\\nJob Description\\n\n",
       "As Demi...\n",
       "35       UX/UI Designer  UX/UI Designer\\n\\nFull job description\\nWe are...\n",
       "36       UX/UI Designer  UX/UI Designer\\n\\nFull job description\\n\\nDo y...\n",
       "37       UX/UI Designer  UX/UI Designer (Business One)\\n\\nJob Descripti...\n",
       "38       UX/UI Designer  Graphics Designer (Remote)\\nHere's how you'll ...\n",
       "39       UX/UI Designer  UX/UI Designer\\n\\nFull job description\\n\\nCond...\n",
       "40      Project Manager  Project Manager, Procurement, INVERTO\\nWhat Yo...\n",
       "41      Project Manager  Business Development Manager (Thai national)\\n...\n",
       "42      Project Manager  Project Manager - Business Development for Ort...\n",
       "43      Project Manager  PSB Project Manager\\nFull job description\\n\\nJ...\n",
       "44      Project Manager  Project Management Associate\\nDuties and Respo...\n",
       "45               Editor  YouTube Video Editor (Paranormal Content)\\nFul...\n",
       "46               Editor  Creative Video Editor (TikTok & IG Reels) – Pa...\n",
       "47               Editor  Video Editor (Thailand)\\nFull job description\\...\n",
       "48               Editor  Executive, Videographer & Editor\\nFull job des...\n",
       "49               Editor  Most Creative Content Coordinator\\nRole Overvi..."
      ]
     },
     "metadata": {},
     "output_type": "display_data"
    },
    {
     "data": {
      "text/html": [
       "<div>\n",
       "<style scoped>\n",
       "    .dataframe tbody tr th:only-of-type {\n",
       "        vertical-align: middle;\n",
       "    }\n",
       "\n",
       "    .dataframe tbody tr th {\n",
       "        vertical-align: top;\n",
       "    }\n",
       "\n",
       "    .dataframe thead th {\n",
       "        text-align: right;\n",
       "    }\n",
       "</style>\n",
       "<table border=\"1\" class=\"dataframe\">\n",
       "  <thead>\n",
       "    <tr style=\"text-align: right;\">\n",
       "      <th></th>\n",
       "      <th>Job Title</th>\n",
       "      <th>resume</th>\n",
       "      <th>score</th>\n",
       "    </tr>\n",
       "  </thead>\n",
       "  <tbody>\n",
       "    <tr>\n",
       "      <th>0</th>\n",
       "      <td>Front-end Developer</td>\n",
       "      <td>\\nSummary: Experienced Front-End Developer wit...</td>\n",
       "      <td>10</td>\n",
       "    </tr>\n",
       "    <tr>\n",
       "      <th>1</th>\n",
       "      <td>Front-end Developer</td>\n",
       "      <td>\\nSummary: Front-End Developer with 4 years of...</td>\n",
       "      <td>8</td>\n",
       "    </tr>\n",
       "    <tr>\n",
       "      <th>2</th>\n",
       "      <td>Front-end Developer</td>\n",
       "      <td>\\nSummary: Entry-level Front-End Developer wit...</td>\n",
       "      <td>6</td>\n",
       "    </tr>\n",
       "    <tr>\n",
       "      <th>3</th>\n",
       "      <td>Front-end Developer</td>\n",
       "      <td>\\nSummary: Beginner Front-End Developer learni...</td>\n",
       "      <td>4</td>\n",
       "    </tr>\n",
       "    <tr>\n",
       "      <th>4</th>\n",
       "      <td>Front-end Developer</td>\n",
       "      <td>\\nSummary: Recent high school graduate explori...</td>\n",
       "      <td>2</td>\n",
       "    </tr>\n",
       "    <tr>\n",
       "      <th>5</th>\n",
       "      <td>Front-end Developer</td>\n",
       "      <td>\\nSummary: Aspiring web developer, currently l...</td>\n",
       "      <td>1</td>\n",
       "    </tr>\n",
       "    <tr>\n",
       "      <th>6</th>\n",
       "      <td>Front-end Developer</td>\n",
       "      <td>\\nSummary: Interested in learning web developm...</td>\n",
       "      <td>0</td>\n",
       "    </tr>\n",
       "    <tr>\n",
       "      <th>7</th>\n",
       "      <td>Front-end Developer</td>\n",
       "      <td>Summary:\\n\\nHighly motivated and experienced F...</td>\n",
       "      <td>10</td>\n",
       "    </tr>\n",
       "    <tr>\n",
       "      <th>8</th>\n",
       "      <td>Front-end Developer</td>\n",
       "      <td>Summary:\\n\\nFront-End Developer with 5 years o...</td>\n",
       "      <td>8</td>\n",
       "    </tr>\n",
       "    <tr>\n",
       "      <th>9</th>\n",
       "      <td>Front-end Developer</td>\n",
       "      <td>\\n\\nSummary:\\n\\nEnthusiastic Front-End Develop...</td>\n",
       "      <td>6</td>\n",
       "    </tr>\n",
       "    <tr>\n",
       "      <th>10</th>\n",
       "      <td>Front-end Developer</td>\n",
       "      <td>\\n\\nSummary:\\n\\nFront-End Developer with some ...</td>\n",
       "      <td>4</td>\n",
       "    </tr>\n",
       "    <tr>\n",
       "      <th>11</th>\n",
       "      <td>Front-end Developer</td>\n",
       "      <td>\\n\\nSummary:\\n\\nAspiring Front-End Developer w...</td>\n",
       "      <td>2</td>\n",
       "    </tr>\n",
       "    <tr>\n",
       "      <th>12</th>\n",
       "      <td>Front-end Developer</td>\n",
       "      <td>\\n\\nSummary:\\n\\nInterested in web development ...</td>\n",
       "      <td>1</td>\n",
       "    </tr>\n",
       "    <tr>\n",
       "      <th>13</th>\n",
       "      <td>Front-end Developer</td>\n",
       "      <td>\\n\\nSummary:\\n\\nEnthusiastic individual with a...</td>\n",
       "      <td>0</td>\n",
       "    </tr>\n",
       "    <tr>\n",
       "      <th>14</th>\n",
       "      <td>Front-end Developer</td>\n",
       "      <td>Summary:\\n\\nA highly skilled and creative Fron...</td>\n",
       "      <td>10</td>\n",
       "    </tr>\n",
       "    <tr>\n",
       "      <th>15</th>\n",
       "      <td>Front-end Developer</td>\n",
       "      <td>\\nSummary:\\n\\nA seasoned Front-End Developer w...</td>\n",
       "      <td>9</td>\n",
       "    </tr>\n",
       "    <tr>\n",
       "      <th>16</th>\n",
       "      <td>Front-end Developer</td>\n",
       "      <td>\\n\\nSummary:\\n\\nA skilled Front-End Developer ...</td>\n",
       "      <td>7</td>\n",
       "    </tr>\n",
       "    <tr>\n",
       "      <th>17</th>\n",
       "      <td>Front-end Developer</td>\n",
       "      <td>\\n\\nSummary:\\n\\nA Front-End Developer with 3 y...</td>\n",
       "      <td>6</td>\n",
       "    </tr>\n",
       "    <tr>\n",
       "      <th>18</th>\n",
       "      <td>Front-end Developer</td>\n",
       "      <td>\\n\\nSummary:\\n\\nAn Entry-Level Front-End Devel...</td>\n",
       "      <td>4</td>\n",
       "    </tr>\n",
       "    <tr>\n",
       "      <th>19</th>\n",
       "      <td>Front-end Developer</td>\n",
       "      <td>\\n\\nSummary:\\n\\nAspiring Front-End Developer w...</td>\n",
       "      <td>3</td>\n",
       "    </tr>\n",
       "  </tbody>\n",
       "</table>\n",
       "</div>"
      ],
      "text/plain": [
       "              Job Title                                             resume  \\\n",
       "0   Front-end Developer  \\nSummary: Experienced Front-End Developer wit...   \n",
       "1   Front-end Developer  \\nSummary: Front-End Developer with 4 years of...   \n",
       "2   Front-end Developer  \\nSummary: Entry-level Front-End Developer wit...   \n",
       "3   Front-end Developer  \\nSummary: Beginner Front-End Developer learni...   \n",
       "4   Front-end Developer  \\nSummary: Recent high school graduate explori...   \n",
       "5   Front-end Developer  \\nSummary: Aspiring web developer, currently l...   \n",
       "6   Front-end Developer  \\nSummary: Interested in learning web developm...   \n",
       "7   Front-end Developer  Summary:\\n\\nHighly motivated and experienced F...   \n",
       "8   Front-end Developer  Summary:\\n\\nFront-End Developer with 5 years o...   \n",
       "9   Front-end Developer  \\n\\nSummary:\\n\\nEnthusiastic Front-End Develop...   \n",
       "10  Front-end Developer  \\n\\nSummary:\\n\\nFront-End Developer with some ...   \n",
       "11  Front-end Developer  \\n\\nSummary:\\n\\nAspiring Front-End Developer w...   \n",
       "12  Front-end Developer  \\n\\nSummary:\\n\\nInterested in web development ...   \n",
       "13  Front-end Developer  \\n\\nSummary:\\n\\nEnthusiastic individual with a...   \n",
       "14  Front-end Developer  Summary:\\n\\nA highly skilled and creative Fron...   \n",
       "15  Front-end Developer  \\nSummary:\\n\\nA seasoned Front-End Developer w...   \n",
       "16  Front-end Developer  \\n\\nSummary:\\n\\nA skilled Front-End Developer ...   \n",
       "17  Front-end Developer  \\n\\nSummary:\\n\\nA Front-End Developer with 3 y...   \n",
       "18  Front-end Developer  \\n\\nSummary:\\n\\nAn Entry-Level Front-End Devel...   \n",
       "19  Front-end Developer  \\n\\nSummary:\\n\\nAspiring Front-End Developer w...   \n",
       "\n",
       "    score  \n",
       "0      10  \n",
       "1       8  \n",
       "2       6  \n",
       "3       4  \n",
       "4       2  \n",
       "5       1  \n",
       "6       0  \n",
       "7      10  \n",
       "8       8  \n",
       "9       6  \n",
       "10      4  \n",
       "11      2  \n",
       "12      1  \n",
       "13      0  \n",
       "14     10  \n",
       "15      9  \n",
       "16      7  \n",
       "17      6  \n",
       "18      4  \n",
       "19      3  "
      ]
     },
     "metadata": {},
     "output_type": "display_data"
    }
   ],
   "source": [
    "import pandas as pd\n",
    "import os\n",
    "\n",
    "# Directories containing the files\n",
    "job_description_folder = './data/job'\n",
    "resume_folder = 'data/resume'\n",
    "\n",
    "dfs = []\n",
    "# Loop through files in the job description folder\n",
    "for job_description_filename in os.listdir(job_description_folder):\n",
    "    job_description_path = os.path.join(job_description_folder, job_description_filename)\n",
    "    dfs.append(pd.read_csv(job_description_path))\n",
    "job_df = pd.concat(dfs).reset_index(drop=True)\n",
    "display(job_df)\n",
    "\n",
    "resume_df = pd.read_csv(os.path.join(resume_folder, 'fe_resumes.csv'))\n",
    "display(resume_df)"
   ]
  },
  {
   "cell_type": "markdown",
   "metadata": {},
   "source": [
    "From the result, the current configuration seems to work for matching \n",
    "the right resume to the right jobs (or at least similar jobs)\n",
    "- Higher score resume seems to match with more jobs\n",
    "- The score of the resume seems to correspond with the similarity score but this isn't a strong relationship\n",
    "- perhaps moving the threshold of 0.5 up will filter up the noises?\n",
    "- poor precision but good recall for better resumes (matches with more jobs)\n",
    "- poor recall but good precision for worse resumes (matches with less jobs)\n",
    "- So far F1 Score of 0.7 is pretty solid"
   ]
  },
  {
   "cell_type": "code",
   "execution_count": 13,
   "metadata": {},
   "outputs": [
    {
     "name": "stderr",
     "output_type": "stream",
     "text": [
      "/opt/anaconda3/envs/testenv/lib/python3.9/site-packages/sklearn/feature_extraction/text.py:521: UserWarning: The parameter 'token_pattern' will not be used since 'tokenizer' is not None'\n",
      "  warnings.warn(\n"
     ]
    },
    {
     "data": {
      "text/plain": [
       "0.9999999999999998"
      ]
     },
     "execution_count": 13,
     "metadata": {},
     "output_type": "execute_result"
    }
   ],
   "source": [
    "Amatcher = BiasedDocumentMatcher({\n",
    "    'remove_stopwords': True,\n",
    "    'lemmatize': True,\n",
    "    'similarity_method': 'bow',  # Can be 'tfidf' or 'bow'\n",
    "})\n",
    "Amatcher.calculate_similarity('I am Kong Mac', 'I am Kong Mac')"
   ]
  },
  {
   "cell_type": "code",
   "execution_count": 27,
   "metadata": {},
   "outputs": [
    {
     "name": "stdout",
     "output_type": "stream",
     "text": [
      "similarity_method bow\n",
      "thresh_hold 0.25\n",
      "Index: 0, Title: Front-end Developer, Score: 10\n"
     ]
    },
    {
     "name": "stderr",
     "output_type": "stream",
     "text": [
      "/opt/anaconda3/envs/testenv/lib/python3.9/site-packages/sklearn/feature_extraction/text.py:521: UserWarning: The parameter 'token_pattern' will not be used since 'tokenizer' is not None'\n",
      "  warnings.warn(\n"
     ]
    },
    {
     "name": "stdout",
     "output_type": "stream",
     "text": [
      "Precision score = 0.5555555555555556\n",
      "Recall score = 1.0\n",
      "F1 score = 0.7142857142857143\n"
     ]
    },
    {
     "data": {
      "text/plain": [
       "[(0.5385478784528956, 'Front-end Developer', 20),\n",
       " (0.48232271198807425, 'Front-end Developer', 24),\n",
       " (0.3982883927635237, 'Front-end Developer', 22),\n",
       " (0.3221428561209475, 'Front-end Developer', 23),\n",
       " (0.3212335750717256, 'UX/UI Designer', 39),\n",
       " (0.2897800034632232, 'UX/UI Designer', 37),\n",
       " (0.2860329300064626, 'Front-end Developer', 21),\n",
       " (0.281964557471881, 'UX/UI Designer', 36),\n",
       " (0.27127233568620035, 'UX/UI Designer', 35)]"
      ]
     },
     "metadata": {},
     "output_type": "display_data"
    },
    {
     "name": "stdout",
     "output_type": "stream",
     "text": [
      "Index: 1, Title: Front-end Developer, Score: 8\n",
      "Precision score = 0.7142857142857143\n",
      "Recall score = 1.0\n",
      "F1 score = 0.8333333333333333\n"
     ]
    },
    {
     "data": {
      "text/plain": [
       "[(0.3971420353928973, 'Front-end Developer', 20),\n",
       " (0.35684600399610217, 'Front-end Developer', 24),\n",
       " (0.34591272541619794, 'Front-end Developer', 22),\n",
       " (0.3026247039837124, 'Front-end Developer', 23),\n",
       " (0.26455339102035585, 'UX/UI Designer', 39),\n",
       " (0.26285075875398495, 'Front-end Developer', 21),\n",
       " (0.2575273328799892, 'UX/UI Designer', 36)]"
      ]
     },
     "metadata": {},
     "output_type": "display_data"
    },
    {
     "name": "stdout",
     "output_type": "stream",
     "text": [
      "Index: 2, Title: Front-end Developer, Score: 6\n",
      "Precision score = 0.5\n",
      "Recall score = 0.6\n",
      "F1 score = 0.5454545454545454\n"
     ]
    },
    {
     "data": {
      "text/plain": [
       "[(0.337563335568336, 'Front-end Developer', 22),\n",
       " (0.31283708834989793, 'Front-end Developer', 24),\n",
       " (0.30407111984631574, 'Front-end Developer', 20),\n",
       " (0.29578894849433035, 'PR', 13),\n",
       " (0.25862070705646906, 'UX/UI Designer', 36),\n",
       " (0.2525089430506066, 'Project Manager', 43)]"
      ]
     },
     "metadata": {},
     "output_type": "display_data"
    },
    {
     "name": "stdout",
     "output_type": "stream",
     "text": [
      "Index: 3, Title: Front-end Developer, Score: 4\n",
      "Precision score = 0.5\n",
      "Recall score = 0.4\n",
      "F1 score = 0.4444444444444445\n"
     ]
    },
    {
     "data": {
      "text/plain": [
       "[(0.3102526139970116, 'Front-end Developer', 20),\n",
       " (0.30337042282559146, 'Front-end Developer', 24),\n",
       " (0.29809403520609357, 'PR', 13),\n",
       " (0.2800773617251715, 'Project Manager', 43)]"
      ]
     },
     "metadata": {},
     "output_type": "display_data"
    },
    {
     "name": "stdout",
     "output_type": "stream",
     "text": [
      "Index: 4, Title: Front-end Developer, Score: 2\n",
      "Precision score = 0.0\n",
      "Recall score = 0.0\n",
      "F1 score = 0\n"
     ]
    },
    {
     "data": {
      "text/plain": [
       "[(0.31031405931277184, 'Project Manager', 43),\n",
       " (0.30741401256374123, 'PR', 13),\n",
       " (0.2619768586485044, 'UX/UI Designer', 36)]"
      ]
     },
     "metadata": {},
     "output_type": "display_data"
    },
    {
     "name": "stdout",
     "output_type": "stream",
     "text": [
      "Index: 5, Title: Front-end Developer, Score: 1\n",
      "Precision score = 0.5\n",
      "Recall score = 0.2\n",
      "F1 score = 0.28571428571428575\n"
     ]
    },
    {
     "data": {
      "text/plain": [
       "[(0.2860387767736777, 'Front-end Developer', 20),\n",
       " (0.2556549962824568, 'PR', 13)]"
      ]
     },
     "metadata": {},
     "output_type": "display_data"
    },
    {
     "name": "stdout",
     "output_type": "stream",
     "text": [
      "Index: 6, Title: Front-end Developer, Score: 0\n",
      "Precision score = 0.5\n",
      "Recall score = 0.6\n",
      "F1 score = 0.5454545454545454\n"
     ]
    },
    {
     "data": {
      "text/plain": [
       "[(0.3211586167968363, 'Front-end Developer', 24),\n",
       " (0.30795659029143735, 'Front-end Developer', 20),\n",
       " (0.2763032760629309, 'PR', 13),\n",
       " (0.26926023193385334, 'Accountant', 17),\n",
       " (0.2580672563510211, 'UX/UI Designer', 36),\n",
       " (0.2549895403411334, 'Front-end Developer', 22)]"
      ]
     },
     "metadata": {},
     "output_type": "display_data"
    },
    {
     "name": "stdout",
     "output_type": "stream",
     "text": [
      "Index: 7, Title: Front-end Developer, Score: 10\n",
      "Precision score = 1.0\n",
      "Recall score = 1.0\n",
      "F1 score = 1.0\n"
     ]
    },
    {
     "data": {
      "text/plain": [
       "[(0.5100427049499138, 'Front-end Developer', 24),\n",
       " (0.4796708164492163, 'Front-end Developer', 20),\n",
       " (0.38625011824308925, 'Front-end Developer', 22),\n",
       " (0.3548226652329635, 'Front-end Developer', 21),\n",
       " (0.3442906644675542, 'Front-end Developer', 23)]"
      ]
     },
     "metadata": {},
     "output_type": "display_data"
    },
    {
     "name": "stdout",
     "output_type": "stream",
     "text": [
      "Index: 8, Title: Front-end Developer, Score: 8\n",
      "Precision score = 1.0\n",
      "Recall score = 1.0\n",
      "F1 score = 1.0\n"
     ]
    },
    {
     "data": {
      "text/plain": [
       "[(0.4737343585008823, 'Front-end Developer', 24),\n",
       " (0.45159946371036763, 'Front-end Developer', 22),\n",
       " (0.4453617714151233, 'Front-end Developer', 20),\n",
       " (0.3129241488308675, 'Front-end Developer', 23),\n",
       " (0.3111411189859678, 'Front-end Developer', 21)]"
      ]
     },
     "metadata": {},
     "output_type": "display_data"
    },
    {
     "name": "stdout",
     "output_type": "stream",
     "text": [
      "Index: 9, Title: Front-end Developer, Score: 6\n",
      "Precision score = 1.0\n",
      "Recall score = 0.8\n",
      "F1 score = 0.888888888888889\n"
     ]
    },
    {
     "data": {
      "text/plain": [
       "[(0.4621247905424448, 'Front-end Developer', 24),\n",
       " (0.45898198959944086, 'Front-end Developer', 22),\n",
       " (0.3238243059644652, 'Front-end Developer', 20),\n",
       " (0.28347198591226747, 'Front-end Developer', 23)]"
      ]
     },
     "metadata": {},
     "output_type": "display_data"
    },
    {
     "name": "stdout",
     "output_type": "stream",
     "text": [
      "Index: 10, Title: Front-end Developer, Score: 4\n",
      "Precision score = 0.75\n",
      "Recall score = 0.6\n",
      "F1 score = 0.6666666666666665\n"
     ]
    },
    {
     "data": {
      "text/plain": [
       "[(0.3712763847138057, 'Front-end Developer', 24),\n",
       " (0.32613628142846846, 'Front-end Developer', 22),\n",
       " (0.29268470350248177, 'Front-end Developer', 20),\n",
       " (0.2559073376997336, 'Accountant', 17)]"
      ]
     },
     "metadata": {},
     "output_type": "display_data"
    },
    {
     "name": "stdout",
     "output_type": "stream",
     "text": [
      "Index: 11, Title: Front-end Developer, Score: 2\n",
      "Precision score = 1.0\n",
      "Recall score = 0.6\n",
      "F1 score = 0.7499999999999999\n"
     ]
    },
    {
     "data": {
      "text/plain": [
       "[(0.3557220909362623, 'Front-end Developer', 24),\n",
       " (0.3251280443811775, 'Front-end Developer', 20),\n",
       " (0.2840335121348202, 'Front-end Developer', 22)]"
      ]
     },
     "metadata": {},
     "output_type": "display_data"
    },
    {
     "name": "stdout",
     "output_type": "stream",
     "text": [
      "Index: 12, Title: Front-end Developer, Score: 1\n",
      "Precision score = 1.0\n",
      "Recall score = 0.4\n",
      "F1 score = 0.5714285714285715\n"
     ]
    },
    {
     "data": {
      "text/plain": [
       "[(0.2834427073321315, 'Front-end Developer', 24),\n",
       " (0.2687165276058996, 'Front-end Developer', 20)]"
      ]
     },
     "metadata": {},
     "output_type": "display_data"
    },
    {
     "name": "stdout",
     "output_type": "stream",
     "text": [
      "Index: 13, Title: Front-end Developer, Score: 0\n",
      "Precision score = 0.2\n",
      "Recall score = 0.4\n",
      "F1 score = 0.26666666666666666\n"
     ]
    },
    {
     "data": {
      "text/plain": [
       "[(0.29654628389589077, 'UX/UI Designer', 39),\n",
       " (0.29424494316824984, 'interior design', 3),\n",
       " (0.28527253168763633, 'interior design', 1),\n",
       " (0.28253331287884864, 'interior design', 2),\n",
       " (0.2805982234399535, 'UX/UI Designer', 37),\n",
       " (0.2804228224858032, 'UX/UI Designer', 36),\n",
       " (0.2628571428571429, 'Front-end Developer', 24),\n",
       " (0.2572193422299569, 'UX/UI Designer', 38),\n",
       " (0.2538104854868824, 'UX/UI Designer', 35),\n",
       " (0.25226248955475655, 'Front-end Developer', 20)]"
      ]
     },
     "metadata": {},
     "output_type": "display_data"
    },
    {
     "name": "stdout",
     "output_type": "stream",
     "text": [
      "Index: 14, Title: Front-end Developer, Score: 10\n",
      "Precision score = 0.4166666666666667\n",
      "Recall score = 1.0\n",
      "F1 score = 0.5882352941176471\n"
     ]
    },
    {
     "data": {
      "text/plain": [
       "[(0.6914700026038172, 'Front-end Developer', 24),\n",
       " (0.5706724103945344, 'Front-end Developer', 20),\n",
       " (0.5416116247530579, 'Front-end Developer', 21),\n",
       " (0.4106927117044294, 'Front-end Developer', 22),\n",
       " (0.3989464844629261, 'Front-end Developer', 23),\n",
       " (0.3432157772974153, 'UX/UI Designer', 35),\n",
       " (0.33985612857294667, 'UX/UI Designer', 39),\n",
       " (0.31285914987568386, 'UX/UI Designer', 37),\n",
       " (0.2869659059149019, 'UX/UI Designer', 36),\n",
       " (0.27890148178550683, 'UX/UI Designer', 38),\n",
       " (0.2618044364915348, 'interior design', 2),\n",
       " (0.2580947460348446, 'interior design', 3)]"
      ]
     },
     "metadata": {},
     "output_type": "display_data"
    },
    {
     "name": "stdout",
     "output_type": "stream",
     "text": [
      "Index: 15, Title: Front-end Developer, Score: 9\n",
      "Precision score = 1.0\n",
      "Recall score = 1.0\n",
      "F1 score = 1.0\n"
     ]
    },
    {
     "data": {
      "text/plain": [
       "[(0.38949159644811826, 'Front-end Developer', 24),\n",
       " (0.3801498681989777, 'Front-end Developer', 20),\n",
       " (0.33871550327940486, 'Front-end Developer', 22),\n",
       " (0.2864933077957473, 'Front-end Developer', 23),\n",
       " (0.261281486467507, 'Front-end Developer', 21)]"
      ]
     },
     "metadata": {},
     "output_type": "display_data"
    },
    {
     "name": "stdout",
     "output_type": "stream",
     "text": [
      "Index: 16, Title: Front-end Developer, Score: 7\n",
      "Precision score = 1.0\n",
      "Recall score = 1.0\n",
      "F1 score = 1.0\n"
     ]
    },
    {
     "data": {
      "text/plain": [
       "[(0.47591830080769476, 'Front-end Developer', 24),\n",
       " (0.4020151261036848, 'Front-end Developer', 20),\n",
       " (0.35480236941044635, 'Front-end Developer', 23),\n",
       " (0.324976299987061, 'Front-end Developer', 22),\n",
       " (0.2963119559695384, 'Front-end Developer', 21)]"
      ]
     },
     "metadata": {},
     "output_type": "display_data"
    },
    {
     "name": "stdout",
     "output_type": "stream",
     "text": [
      "Index: 17, Title: Front-end Developer, Score: 6\n",
      "Precision score = 1.0\n",
      "Recall score = 1.0\n",
      "F1 score = 1.0\n"
     ]
    },
    {
     "data": {
      "text/plain": [
       "[(0.5343155318326465, 'Front-end Developer', 24),\n",
       " (0.42121176958711604, 'Front-end Developer', 20),\n",
       " (0.4181508441475623, 'Front-end Developer', 22),\n",
       " (0.34636483416229824, 'Front-end Developer', 21),\n",
       " (0.2682927058517136, 'Front-end Developer', 23)]"
      ]
     },
     "metadata": {},
     "output_type": "display_data"
    },
    {
     "name": "stdout",
     "output_type": "stream",
     "text": [
      "Index: 18, Title: Front-end Developer, Score: 4\n",
      "Precision score = 1.0\n",
      "Recall score = 0.8\n",
      "F1 score = 0.888888888888889\n"
     ]
    },
    {
     "data": {
      "text/plain": [
       "[(0.4259177099999599, 'Front-end Developer', 24),\n",
       " (0.38550794895160617, 'Front-end Developer', 22),\n",
       " (0.3491899510776647, 'Front-end Developer', 20),\n",
       " (0.31898291764623027, 'Front-end Developer', 23)]"
      ]
     },
     "metadata": {},
     "output_type": "display_data"
    },
    {
     "name": "stdout",
     "output_type": "stream",
     "text": [
      "Index: 19, Title: Front-end Developer, Score: 3\n",
      "Precision score = 0.75\n",
      "Recall score = 0.6\n",
      "F1 score = 0.6666666666666665\n"
     ]
    },
    {
     "data": {
      "text/plain": [
       "[(0.29906687176753616, 'Front-end Developer', 24),\n",
       " (0.29423079099340255, 'Front-end Developer', 22),\n",
       " (0.26195608894247147, 'Front-end Developer', 20),\n",
       " (0.2527603229943381, 'UX/UI Designer', 36)]"
      ]
     },
     "metadata": {},
     "output_type": "display_data"
    },
    {
     "name": "stdout",
     "output_type": "stream",
     "text": [
      "Mean Precision: 0.7193253968253968\n",
      "Mean Recall: 0.7\n",
      "Mean F1 Score: 0.6828064256005433\n"
     ]
    }
   ],
   "source": [
    "import matplotlib.pyplot as plt\n",
    "\n",
    "# Initialize lists to store precision, recall, F1 scores, and resume scores per iteration\n",
    "precision_scores = []\n",
    "recall_scores = []\n",
    "f1_scores = []\n",
    "resume_scores = []  # List to track each resume's base score\n",
    "thresh_hold =  0.52 if (Amatcher.config['similarity_method'] == 'bert') else 0.25\n",
    "print('similarity_method', Amatcher.config['similarity_method'])\n",
    "print('thresh_hold', thresh_hold)   \n",
    "\n",
    "# Process only the first 10 resumes\n",
    "for idx, resume in resume_df.iterrows():\n",
    "    print(f\"Index: {idx}, Title: {resume['Job Title']}, Score: {resume['score']}\")\n",
    "    \n",
    "    # Retrieve jobs with similarity above threshold\n",
    "    res = [\n",
    "        (score, job['Job Title'], index)\n",
    "        for index, job in job_df.iterrows()\n",
    "        if (score := Amatcher.calculate_similarity(job['Job description'], resume['resume'])) > thresh_hold\n",
    "    ]\n",
    "    \n",
    "    # Compute precision: correct retrieved / retrieved\n",
    "    correct = sum(job_title == resume['Job Title'] for _, job_title, index in res)\n",
    "    precision = correct / len(res) if res else 0\n",
    "    print(f'Precision score = {precision}')\n",
    "    \n",
    "    # Compute recall: correct retrieved / total relevant items from job_df\n",
    "    total_relevant = sum(1 for _, job in job_df.iterrows() if job['Job Title'] == resume['Job Title'])\n",
    "    recall = correct / total_relevant if total_relevant else 0\n",
    "    print(f'Recall score = {recall}')\n",
    "    \n",
    "    # Compute the F1 score for this resume (harmonic mean of precision and recall)\n",
    "    if precision + recall:\n",
    "        f1 = 2 * (precision * recall) / (precision + recall)\n",
    "    else:\n",
    "        f1 = 0\n",
    "    print(f'F1 score = {f1}')\n",
    "    \n",
    "    # Store computed metrics along with the resume's score\n",
    "    precision_scores.append(precision)\n",
    "    recall_scores.append(recall)\n",
    "    f1_scores.append(f1)\n",
    "    resume_scores.append(resume['score'])\n",
    "    \n",
    "    # Optionally, sort and display the filtered results\n",
    "    res = sorted(res, key=lambda x: x[0], reverse=True)\n",
    "    display(res)\n",
    "\n",
    "# Calculate aggregate (mean) scores over all evaluated resumes\n",
    "mean_precision = sum(precision_scores) / len(precision_scores) if precision_scores else 0\n",
    "mean_recall = sum(recall_scores) / len(recall_scores) if recall_scores else 0\n",
    "mean_f1 = sum(f1_scores) / len(f1_scores) if f1_scores else 0\n",
    "\n",
    "print(f\"Mean Precision: {mean_precision}\")\n",
    "print(f\"Mean Recall: {mean_recall}\")\n",
    "print(f\"Mean F1 Score: {mean_f1}\")\n"
   ]
  },
  {
   "attachments": {
    "SBERT_52.png": {
     "image/png": "[encoded data removed]"
    }
   },
   "cell_type": "markdown",
   "metadata": {},
   "source": [
    "## SBERT at 0.52 threshold\n",
    "- Mean Precision: 0.806686507936508\n",
    "- Mean Recall: 0.7100000000000001\n",
    "- Mean F1 Score: 0.7090639915639916\n",
    "![SBERT_52.png](attachment:SBERT_52.png)\n"
   ]
  },
  {
   "attachments": {
    "bow_25.png": {
     "image/png": "[encoded data removed]"
    }
   },
   "cell_type": "markdown",
   "metadata": {},
   "source": [
    "## BOW at 0.25 threshold\n",
    "- Mean Precision: 0.7193253968253968\n",
    "- Mean Recall: 0.7\n",
    "- Mean F1 Score: 0.6828064256005433\n",
    "![bow_25.png](attachment:bow_25.png)"
   ]
  },
  {
   "cell_type": "markdown",
   "metadata": {},
   "source": [
    "SBERT has higher mean precision at the cost of much slower runtime"
   ]
  },
  {
   "cell_type": "markdown",
   "metadata": {},
   "source": [
    "How good is it for ranking candidate: nDCG\n",
    "- when resumes have varying levels of relevance, and the position in the ranking matters"
   ]
  },
  {
   "cell_type": "code",
   "execution_count": 17,
   "metadata": {},
   "outputs": [],
   "source": [
    "import numpy as np\n",
    "\n",
    "def dcg_at_k(relevances, k):\n",
    "    \"\"\"Compute DCG@k for a list of graded relevances.\"\"\"\n",
    "    relevances = np.asfarray(relevances)[:k]\n",
    "    if relevances.size == 0:\n",
    "        return 0.0\n",
    "    # DCG formula: first item + discounted sum of rest\n",
    "    return relevances[0] + np.sum(relevances[1:] / np.log2(np.arange(2, relevances.size + 1)))\n",
    "\n",
    "def ndcg_at_k(predicted_rels, true_rels, k):\n",
    "    \"\"\"\n",
    "    Compute nDCG@k given:\n",
    "      - predicted_rels: list of true relevance scores in predicted order\n",
    "      - true_rels: list of true relevance scores (unsorted)\n",
    "      - k: cutoff rank\n",
    "    \"\"\"\n",
    "    # DCG of predicted order\n",
    "    dcg_value = dcg_at_k(predicted_rels, k)\n",
    "    # DCG of ideal (sorted) order\n",
    "    ideal_rels = sorted(true_rels, reverse=True)\n",
    "    idcg_value = dcg_at_k(ideal_rels, k)\n",
    "    return dcg_value / idcg_value if idcg_value > 0 else 0.0\n"
   ]
  },
  {
   "cell_type": "code",
   "execution_count": 24,
   "metadata": {},
   "outputs": [
    {
     "data": {
      "text/html": [
       "<div>\n",
       "<style scoped>\n",
       "    .dataframe tbody tr th:only-of-type {\n",
       "        vertical-align: middle;\n",
       "    }\n",
       "\n",
       "    .dataframe tbody tr th {\n",
       "        vertical-align: top;\n",
       "    }\n",
       "\n",
       "    .dataframe thead th {\n",
       "        text-align: right;\n",
       "    }\n",
       "</style>\n",
       "<table border=\"1\" class=\"dataframe\">\n",
       "  <thead>\n",
       "    <tr style=\"text-align: right;\">\n",
       "      <th></th>\n",
       "      <th>Job Title</th>\n",
       "      <th>Job description</th>\n",
       "    </tr>\n",
       "  </thead>\n",
       "  <tbody>\n",
       "    <tr>\n",
       "      <th>20</th>\n",
       "      <td>Front-end Developer</td>\n",
       "      <td>Front-End Flutter &amp; React\\nMain Responsibiliti...</td>\n",
       "    </tr>\n",
       "    <tr>\n",
       "      <th>21</th>\n",
       "      <td>Front-end Developer</td>\n",
       "      <td>Front-End Developer (React)\\nResponsibilities:...</td>\n",
       "    </tr>\n",
       "    <tr>\n",
       "      <th>22</th>\n",
       "      <td>Front-end Developer</td>\n",
       "      <td>Junior Front-End Developer\\nFull job descripti...</td>\n",
       "    </tr>\n",
       "    <tr>\n",
       "      <th>23</th>\n",
       "      <td>Front-end Developer</td>\n",
       "      <td>Front-End Developer\\nAbout the job:\\nAs a .NET...</td>\n",
       "    </tr>\n",
       "    <tr>\n",
       "      <th>24</th>\n",
       "      <td>Front-end Developer</td>\n",
       "      <td>Front-End Developer\\nPaired is a global staffi...</td>\n",
       "    </tr>\n",
       "  </tbody>\n",
       "</table>\n",
       "</div>"
      ],
      "text/plain": [
       "              Job Title                                    Job description\n",
       "20  Front-end Developer  Front-End Flutter & React\\nMain Responsibiliti...\n",
       "21  Front-end Developer  Front-End Developer (React)\\nResponsibilities:...\n",
       "22  Front-end Developer  Junior Front-End Developer\\nFull job descripti...\n",
       "23  Front-end Developer  Front-End Developer\\nAbout the job:\\nAs a .NET...\n",
       "24  Front-end Developer  Front-End Developer\\nPaired is a global staffi..."
      ]
     },
     "execution_count": 24,
     "metadata": {},
     "output_type": "execute_result"
    }
   ],
   "source": [
    "fe_job_df = job_df[job_df['Job Title'] == 'Front-end Developer']\n",
    "fe_job_df"
   ]
  },
  {
   "cell_type": "code",
   "execution_count": 29,
   "metadata": {},
   "outputs": [
    {
     "name": "stderr",
     "output_type": "stream",
     "text": [
      "Some weights of the PyTorch model were not used when initializing the TF 2.0 model TFBertModel: ['embeddings.position_ids']\n",
      "- This IS expected if you are initializing TFBertModel from a PyTorch model trained on another task or with another architecture (e.g. initializing a TFBertForSequenceClassification model from a BertForPreTraining model).\n",
      "- This IS NOT expected if you are initializing TFBertModel from a PyTorch model that you expect to be exactly identical (e.g. initializing a TFBertForSequenceClassification model from a BertForSequenceClassification model).\n",
      "All the weights of TFBertModel were initialized from the PyTorch model.\n",
      "If your task is similar to the task the model of the checkpoint was trained on, you can already use TFBertModel for predictions without further training.\n"
     ]
    },
    {
     "data": {
      "text/plain": [
       "1.0"
      ]
     },
     "execution_count": 29,
     "metadata": {},
     "output_type": "execute_result"
    }
   ],
   "source": [
    "Amatcher = BiasedDocumentMatcher({\n",
    "    'remove_stopwords': True,\n",
    "    'lemmatize': True,\n",
    "    'similarity_method': 'bert',  # Can be 'tfidf' or 'bow'\n",
    "})\n",
    "Amatcher.calculate_similarity('I am Kong Mac', 'I am Kong Mac')"
   ]
  },
  {
   "cell_type": "code",
   "execution_count": null,
   "metadata": {},
   "outputs": [],
   "source": [
    "thresh_hold =  0.52 if (Amatcher.config['similarity_method'] == 'bert') else 0.25\n",
    "print('similarity_method', Amatcher.config['similarity_method'])\n",
    "print('thresh_hold', thresh_hold)   \n",
    "ndcg_scores = []\n",
    "\n",
    "for job_idx, job in fe_job_df.iterrows():\n",
    "    # 1. Filter and rank resumes by match_score\n",
    "    filtered = [\n",
    "        (resume_idx, resume['score'], Amatcher.calculate_similarity(job['Job description'], resume['resume']))\n",
    "        for resume_idx, resume in resume_df.iterrows()\n",
    "        if Amatcher.calculate_similarity(job['Job description'], resume['resume']) > thresh_hold\n",
    "    ]\n",
    "    # Sort by predicted similarity descending\n",
    "    filtered.sort(key=lambda x: x[2], reverse=True)\n",
    "\n",
    "    # 2. Extract the true relevance scores in predicted order\n",
    "    predicted_true_rels = [true_score for (_, true_score, _) in filtered]\n",
    "    # 3. Extract all true relevance scores for this job (for ideal order)\n",
    "    all_true_rels = list(resume_df['score'])\n",
    "\n",
    "    # 4. Compute nDCG@K (K = number of filtered resumes)\n",
    "    k = len(predicted_true_rels)\n",
    "    ndcg_score = ndcg_at_k(predicted_true_rels, all_true_rels, k)\n",
    "    ndcg_scores.append(ndcg_score)\n",
    "    print(f\"Job {job_idx} ({job['Job Title']}): nDCG@{k} = {ndcg_score:.4f}\")\n",
    "\n",
    "    display(filtered)\n",
    "\n",
    "mean_nDCG = sum(ndcg_scores) / len(ndcg_scores) if ndcg_scores else 0\n",
    "\n",
    "print(f\"Mean nDCG: {mean_nDCG}\")"
   ]
  },
  {
   "cell_type": "markdown",
   "metadata": {},
   "source": [
    "BOW: Mean nDCG 0.9374967427695198\n",
    "SBERT: Mean nDCG 0.9176263729170604\n",
    "# Tested with very small samples"
   ]
  },
  {
   "cell_type": "code",
   "execution_count": null,
   "metadata": {},
   "outputs": [
    {
     "data": {
      "image/png": "[encoded data removed]",
      "text/plain": [
       "<Figure size 1500x400 with 3 Axes>"
      ]
     },
     "metadata": {},
     "output_type": "display_data"
    }
   ],
   "source": [
    "import numpy as np\n",
    "import matplotlib.pyplot as plt\n",
    "\n",
    "# Compute correlation coefficients for each metric vs resume score\n",
    "corr_precision = np.corrcoef(resume_scores, precision_scores)[0, 1]\n",
    "corr_recall    = np.corrcoef(resume_scores, recall_scores)[0, 1]\n",
    "corr_f1      = np.corrcoef(resume_scores, f1_scores)[0, 1]\n",
    "\n",
    "# A helper function to determine the correlation type\n",
    "def get_correlation_type(corr, threshold=0.05):\n",
    "    # If abs(corr) is less than threshold, we consider it no correlation\n",
    "    if abs(corr) < threshold:\n",
    "        return \"No correlation\"\n",
    "    elif corr > 0:\n",
    "        return \"Positive correlation\"\n",
    "    else:\n",
    "        return \"Negative correlation\"\n",
    "\n",
    "# Determine correlation types\n",
    "corr_type_precision = get_correlation_type(corr_precision)\n",
    "corr_type_recall = get_correlation_type(corr_recall)\n",
    "corr_type_f1 = get_correlation_type(corr_f1)\n",
    "\n",
    "plt.figure(figsize=(15, 4))\n",
    "\n",
    "# Plot 1: Precision vs Resume Score\n",
    "plt.subplot(1, 3, 1)\n",
    "plt.scatter(resume_scores, precision_scores, color='blue')\n",
    "plt.title('Precision vs Resume Score')\n",
    "plt.xlabel('Resume Score')\n",
    "plt.ylabel('Precision')\n",
    "plt.grid(True)\n",
    "# Annotate with correlation information\n",
    "plt.text(0.05, 0.95, f\"r = {corr_precision:.2f}\\n{corr_type_precision}\", transform=plt.gca().transAxes,\n",
    "         fontsize=10, verticalalignment='top', bbox=dict(boxstyle='round', facecolor='white', alpha=0.8))\n",
    "\n",
    "# Plot 2: Recall vs Resume Score\n",
    "plt.subplot(1, 3, 2)\n",
    "plt.scatter(resume_scores, recall_scores, color='green')\n",
    "plt.title('Recall vs Resume Score')\n",
    "plt.xlabel('Resume Score')\n",
    "plt.ylabel('Recall')\n",
    "plt.grid(True)\n",
    "# Annotate with correlation information\n",
    "plt.text(0.05, 0.95, f\"r = {corr_recall:.2f}\\n{corr_type_recall}\", transform=plt.gca().transAxes,\n",
    "         fontsize=10, verticalalignment='top', bbox=dict(boxstyle='round', facecolor='white', alpha=0.8))\n",
    "\n",
    "# Plot 3: F1 Score vs Resume Score\n",
    "plt.subplot(1, 3, 3)\n",
    "plt.scatter(resume_scores, f1_scores, color='red')\n",
    "plt.title('F1 Score vs Resume Score')\n",
    "plt.xlabel('Resume Score')\n",
    "plt.ylabel('F1 Score')\n",
    "plt.grid(True)\n",
    "# Annotate with correlation information\n",
    "plt.text(0.05, 0.95, f\"r = {corr_f1:.2f}\\n{corr_type_f1}\", transform=plt.gca().transAxes,\n",
    "         fontsize=10, verticalalignment='top', bbox=dict(boxstyle='round', facecolor='white', alpha=0.8))\n",
    "\n",
    "plt.tight_layout()\n",
    "plt.show()\n"
   ]
  }
 ],
 "metadata": {
  "kernelspec": {
   "display_name": "testenv",
   "language": "python",
   "name": "python3"
  },
  "language_info": {
   "codemirror_mode": {
    "name": "ipython",
    "version": 3
   },
   "file_extension": ".py",
   "mimetype": "text/x-python",
   "name": "python",
   "nbconvert_exporter": "python",
   "pygments_lexer": "ipython3",
   "version": "3.9.19"
  }
 },
 "nbformat": 4,
 "nbformat_minor": 2
}
